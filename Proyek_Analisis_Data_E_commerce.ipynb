{
  "cells": [
    {
      "cell_type": "markdown",
      "metadata": {
        "id": "cP5zh7Ww85Fm"
      },
      "source": [
        " # E-commerce Public Dataset"
      ]
    },
    {
      "cell_type": "markdown",
      "metadata": {
        "id": "ggwOFmpI88dG"
      },
      "source": [
        "## Outcome"
      ]
    },
    {
      "cell_type": "markdown",
      "metadata": {
        "id": "6irqmTtg8-IC"
      },
      "source": [
        "- How is the growth of sales on past year?\n",
        "- How many user that e-commerce have based on the state?\n",
        "- How is the delivery rate of the items ordered?\n",
        "- What is the top 10 most product user order?"
      ]
    },
    {
      "cell_type": "markdown",
      "metadata": {
        "id": "EueHsNk89AsY"
      },
      "source": [
        "## Menyiapkan semua library yang dibuthkan"
      ]
    },
    {
      "cell_type": "code",
      "execution_count": 1,
      "metadata": {
        "id": "4cmWv4qc8xWu"
      },
      "outputs": [],
      "source": [
        "import pandas as pd\n",
        "import numpy as np\n",
        "import matplotlib.pyplot as plt\n",
        "import seaborn as sns\n",
        "import warnings"
      ]
    },
    {
      "cell_type": "markdown",
      "metadata": {
        "id": "7DwSpkkZ9BqV"
      },
      "source": [
        "## Data Wrangling"
      ]
    },
    {
      "cell_type": "markdown",
      "metadata": {
        "id": "ZuJuLGxe9D9O"
      },
      "source": [
        "### Gathering Data"
      ]
    },
    {
      "cell_type": "markdown",
      "metadata": {
        "id": "Uvr8zOHDK4Qt"
      },
      "source": [
        "#### Memuat tabel customers"
      ]
    },
    {
      "cell_type": "code",
      "execution_count": 2,
      "metadata": {
        "colab": {
          "base_uri": "https://localhost:8080/",
          "height": 206
        },
        "id": "Rg3wtvOr9DUm",
        "outputId": "729f8553-47d5-4511-da1a-00ae48e9b4ee"
      },
      "outputs": [
        {
          "data": {
            "text/html": [
              "<div>\n",
              "<style scoped>\n",
              "    .dataframe tbody tr th:only-of-type {\n",
              "        vertical-align: middle;\n",
              "    }\n",
              "\n",
              "    .dataframe tbody tr th {\n",
              "        vertical-align: top;\n",
              "    }\n",
              "\n",
              "    .dataframe thead th {\n",
              "        text-align: right;\n",
              "    }\n",
              "</style>\n",
              "<table border=\"1\" class=\"dataframe\">\n",
              "  <thead>\n",
              "    <tr style=\"text-align: right;\">\n",
              "      <th></th>\n",
              "      <th>customer_id</th>\n",
              "      <th>customer_unique_id</th>\n",
              "      <th>customer_zip_code_prefix</th>\n",
              "      <th>customer_city</th>\n",
              "      <th>customer_state</th>\n",
              "    </tr>\n",
              "  </thead>\n",
              "  <tbody>\n",
              "    <tr>\n",
              "      <th>0</th>\n",
              "      <td>06b8999e2fba1a1fbc88172c00ba8bc7</td>\n",
              "      <td>861eff4711a542e4b93843c6dd7febb0</td>\n",
              "      <td>14409</td>\n",
              "      <td>franca</td>\n",
              "      <td>SP</td>\n",
              "    </tr>\n",
              "    <tr>\n",
              "      <th>1</th>\n",
              "      <td>18955e83d337fd6b2def6b18a428ac77</td>\n",
              "      <td>290c77bc529b7ac935b93aa66c333dc3</td>\n",
              "      <td>9790</td>\n",
              "      <td>sao bernardo do campo</td>\n",
              "      <td>SP</td>\n",
              "    </tr>\n",
              "    <tr>\n",
              "      <th>2</th>\n",
              "      <td>4e7b3e00288586ebd08712fdd0374a03</td>\n",
              "      <td>060e732b5b29e8181a18229c7b0b2b5e</td>\n",
              "      <td>1151</td>\n",
              "      <td>sao paulo</td>\n",
              "      <td>SP</td>\n",
              "    </tr>\n",
              "    <tr>\n",
              "      <th>3</th>\n",
              "      <td>b2b6027bc5c5109e529d4dc6358b12c3</td>\n",
              "      <td>259dac757896d24d7702b9acbbff3f3c</td>\n",
              "      <td>8775</td>\n",
              "      <td>mogi das cruzes</td>\n",
              "      <td>SP</td>\n",
              "    </tr>\n",
              "    <tr>\n",
              "      <th>4</th>\n",
              "      <td>4f2d8ab171c80ec8364f7c12e35b23ad</td>\n",
              "      <td>345ecd01c38d18a9036ed96c73b8d066</td>\n",
              "      <td>13056</td>\n",
              "      <td>campinas</td>\n",
              "      <td>SP</td>\n",
              "    </tr>\n",
              "  </tbody>\n",
              "</table>\n",
              "</div>"
            ],
            "text/plain": [
              "                        customer_id                customer_unique_id  \\\n",
              "0  06b8999e2fba1a1fbc88172c00ba8bc7  861eff4711a542e4b93843c6dd7febb0   \n",
              "1  18955e83d337fd6b2def6b18a428ac77  290c77bc529b7ac935b93aa66c333dc3   \n",
              "2  4e7b3e00288586ebd08712fdd0374a03  060e732b5b29e8181a18229c7b0b2b5e   \n",
              "3  b2b6027bc5c5109e529d4dc6358b12c3  259dac757896d24d7702b9acbbff3f3c   \n",
              "4  4f2d8ab171c80ec8364f7c12e35b23ad  345ecd01c38d18a9036ed96c73b8d066   \n",
              "\n",
              "   customer_zip_code_prefix          customer_city customer_state  \n",
              "0                     14409                 franca             SP  \n",
              "1                      9790  sao bernardo do campo             SP  \n",
              "2                      1151              sao paulo             SP  \n",
              "3                      8775        mogi das cruzes             SP  \n",
              "4                     13056               campinas             SP  "
            ]
          },
          "execution_count": 2,
          "metadata": {},
          "output_type": "execute_result"
        }
      ],
      "source": [
        "sheet_url_1 = \"https://docs.google.com/spreadsheets/d/1p6PHaeLJ5OIxB-rY0I-S09UqfbRrCK6F1L7pkczpzXM/edit#gid=1667242544\"\n",
        "sheet_url_1_trf = sheet_url_1.replace(\"/edit#gid=\", \"/export?format=csv&gid=\")\n",
        "\n",
        "df_customers = pd.read_csv(sheet_url_1_trf)\n",
        "df_customers.head()"
      ]
    },
    {
      "cell_type": "markdown",
      "metadata": {
        "id": "jyfO2RKGLBl8"
      },
      "source": [
        "##### Memuat tabel orders"
      ]
    },
    {
      "cell_type": "code",
      "execution_count": 3,
      "metadata": {
        "colab": {
          "base_uri": "https://localhost:8080/",
          "height": 226
        },
        "id": "3LSJxy0IhTh7",
        "outputId": "b445315a-ee90-4bc1-b145-db4bb48f80fb"
      },
      "outputs": [
        {
          "data": {
            "text/html": [
              "<div>\n",
              "<style scoped>\n",
              "    .dataframe tbody tr th:only-of-type {\n",
              "        vertical-align: middle;\n",
              "    }\n",
              "\n",
              "    .dataframe tbody tr th {\n",
              "        vertical-align: top;\n",
              "    }\n",
              "\n",
              "    .dataframe thead th {\n",
              "        text-align: right;\n",
              "    }\n",
              "</style>\n",
              "<table border=\"1\" class=\"dataframe\">\n",
              "  <thead>\n",
              "    <tr style=\"text-align: right;\">\n",
              "      <th></th>\n",
              "      <th>order_id</th>\n",
              "      <th>customer_id</th>\n",
              "      <th>order_status</th>\n",
              "      <th>order_purchase_timestamp</th>\n",
              "      <th>order_approved_at</th>\n",
              "      <th>order_delivered_carrier_date</th>\n",
              "      <th>order_delivered_customer_date</th>\n",
              "      <th>order_estimated_delivery_date</th>\n",
              "    </tr>\n",
              "  </thead>\n",
              "  <tbody>\n",
              "    <tr>\n",
              "      <th>0</th>\n",
              "      <td>e481f51cbdc54678b7cc49136f2d6af7</td>\n",
              "      <td>9ef432eb6251297304e76186b10a928d</td>\n",
              "      <td>delivered</td>\n",
              "      <td>2017-10-02 10:56:33</td>\n",
              "      <td>2017-10-02 11:07:15</td>\n",
              "      <td>2017-10-04 19:55:00</td>\n",
              "      <td>2017-10-10 21:25:13</td>\n",
              "      <td>2017-10-18 0:00:00</td>\n",
              "    </tr>\n",
              "    <tr>\n",
              "      <th>1</th>\n",
              "      <td>53cdb2fc8bc7dce0b6741e2150273451</td>\n",
              "      <td>b0830fb4747a6c6d20dea0b8c802d7ef</td>\n",
              "      <td>delivered</td>\n",
              "      <td>2018-07-24 20:41:37</td>\n",
              "      <td>2018-07-26 3:24:27</td>\n",
              "      <td>2018-07-26 14:31:00</td>\n",
              "      <td>2018-08-07 15:27:45</td>\n",
              "      <td>2018-08-13 0:00:00</td>\n",
              "    </tr>\n",
              "    <tr>\n",
              "      <th>2</th>\n",
              "      <td>47770eb9100c2d0c44946d9cf07ec65d</td>\n",
              "      <td>41ce2a54c0b03bf3443c3d931a367089</td>\n",
              "      <td>delivered</td>\n",
              "      <td>2018-08-08 8:38:49</td>\n",
              "      <td>2018-08-08 8:55:23</td>\n",
              "      <td>2018-08-08 13:50:00</td>\n",
              "      <td>2018-08-17 18:06:29</td>\n",
              "      <td>2018-09-04 0:00:00</td>\n",
              "    </tr>\n",
              "    <tr>\n",
              "      <th>3</th>\n",
              "      <td>949d5b44dbf5de918fe9c16f97b45f8a</td>\n",
              "      <td>f88197465ea7920adcdbec7375364d82</td>\n",
              "      <td>delivered</td>\n",
              "      <td>2017-11-18 19:28:06</td>\n",
              "      <td>2017-11-18 19:45:59</td>\n",
              "      <td>2017-11-22 13:39:59</td>\n",
              "      <td>2017-12-02 0:28:42</td>\n",
              "      <td>2017-12-15 0:00:00</td>\n",
              "    </tr>\n",
              "    <tr>\n",
              "      <th>4</th>\n",
              "      <td>ad21c59c0840e6cb83a9ceb5573f8159</td>\n",
              "      <td>8ab97904e6daea8866dbdbc4fb7aad2c</td>\n",
              "      <td>delivered</td>\n",
              "      <td>2018-02-13 21:18:39</td>\n",
              "      <td>2018-02-13 22:20:29</td>\n",
              "      <td>2018-02-14 19:46:34</td>\n",
              "      <td>2018-02-16 18:17:02</td>\n",
              "      <td>2018-02-26 0:00:00</td>\n",
              "    </tr>\n",
              "  </tbody>\n",
              "</table>\n",
              "</div>"
            ],
            "text/plain": [
              "                           order_id                       customer_id  \\\n",
              "0  e481f51cbdc54678b7cc49136f2d6af7  9ef432eb6251297304e76186b10a928d   \n",
              "1  53cdb2fc8bc7dce0b6741e2150273451  b0830fb4747a6c6d20dea0b8c802d7ef   \n",
              "2  47770eb9100c2d0c44946d9cf07ec65d  41ce2a54c0b03bf3443c3d931a367089   \n",
              "3  949d5b44dbf5de918fe9c16f97b45f8a  f88197465ea7920adcdbec7375364d82   \n",
              "4  ad21c59c0840e6cb83a9ceb5573f8159  8ab97904e6daea8866dbdbc4fb7aad2c   \n",
              "\n",
              "  order_status order_purchase_timestamp    order_approved_at  \\\n",
              "0    delivered      2017-10-02 10:56:33  2017-10-02 11:07:15   \n",
              "1    delivered      2018-07-24 20:41:37   2018-07-26 3:24:27   \n",
              "2    delivered       2018-08-08 8:38:49   2018-08-08 8:55:23   \n",
              "3    delivered      2017-11-18 19:28:06  2017-11-18 19:45:59   \n",
              "4    delivered      2018-02-13 21:18:39  2018-02-13 22:20:29   \n",
              "\n",
              "  order_delivered_carrier_date order_delivered_customer_date  \\\n",
              "0          2017-10-04 19:55:00           2017-10-10 21:25:13   \n",
              "1          2018-07-26 14:31:00           2018-08-07 15:27:45   \n",
              "2          2018-08-08 13:50:00           2018-08-17 18:06:29   \n",
              "3          2017-11-22 13:39:59            2017-12-02 0:28:42   \n",
              "4          2018-02-14 19:46:34           2018-02-16 18:17:02   \n",
              "\n",
              "  order_estimated_delivery_date  \n",
              "0            2017-10-18 0:00:00  \n",
              "1            2018-08-13 0:00:00  \n",
              "2            2018-09-04 0:00:00  \n",
              "3            2017-12-15 0:00:00  \n",
              "4            2018-02-26 0:00:00  "
            ]
          },
          "execution_count": 3,
          "metadata": {},
          "output_type": "execute_result"
        }
      ],
      "source": [
        "sheet_url_2 = \"https://docs.google.com/spreadsheets/d/1B5sDukmi1m_PRSxs8lBghr0h1SUzTvkLXpH1sOxMJZU/edit#gid=86987991\"\n",
        "sheet_url_2_trf = sheet_url_2.replace(\"/edit#gid=\", \"/export?format=csv&gid=\")\n",
        "\n",
        "df_orders = pd.read_csv(sheet_url_2_trf)\n",
        "df_orders.head()"
      ]
    },
    {
      "cell_type": "markdown",
      "metadata": {
        "id": "wlZKgYGAysl5"
      },
      "source": [
        "##### Memuat tabel order items"
      ]
    },
    {
      "cell_type": "code",
      "execution_count": 4,
      "metadata": {
        "colab": {
          "base_uri": "https://localhost:8080/",
          "height": 226
        },
        "id": "csK7MrLW5E1R",
        "outputId": "890b230c-e1d3-41b0-e671-dc25afe43642"
      },
      "outputs": [
        {
          "data": {
            "text/html": [
              "<div>\n",
              "<style scoped>\n",
              "    .dataframe tbody tr th:only-of-type {\n",
              "        vertical-align: middle;\n",
              "    }\n",
              "\n",
              "    .dataframe tbody tr th {\n",
              "        vertical-align: top;\n",
              "    }\n",
              "\n",
              "    .dataframe thead th {\n",
              "        text-align: right;\n",
              "    }\n",
              "</style>\n",
              "<table border=\"1\" class=\"dataframe\">\n",
              "  <thead>\n",
              "    <tr style=\"text-align: right;\">\n",
              "      <th></th>\n",
              "      <th>order_id</th>\n",
              "      <th>order_item_id</th>\n",
              "      <th>product_id</th>\n",
              "      <th>seller_id</th>\n",
              "      <th>shipping_limit_date</th>\n",
              "      <th>price</th>\n",
              "      <th>freight_value</th>\n",
              "    </tr>\n",
              "  </thead>\n",
              "  <tbody>\n",
              "    <tr>\n",
              "      <th>0</th>\n",
              "      <td>00010242fe8c5a6d1ba2dd792cb16214</td>\n",
              "      <td>1</td>\n",
              "      <td>4244733e06e7ecb4970a6e2683c13e61</td>\n",
              "      <td>48436dade18ac8b2bce089ec2a041202</td>\n",
              "      <td>2017-09-19 9:45:35</td>\n",
              "      <td>58.90</td>\n",
              "      <td>13.29</td>\n",
              "    </tr>\n",
              "    <tr>\n",
              "      <th>1</th>\n",
              "      <td>00018f77f2f0320c557190d7a144bdd3</td>\n",
              "      <td>1</td>\n",
              "      <td>e5f2d52b802189ee658865ca93d83a8f</td>\n",
              "      <td>dd7ddc04e1b6c2c614352b383efe2d36</td>\n",
              "      <td>2017-05-03 11:05:13</td>\n",
              "      <td>239.90</td>\n",
              "      <td>19.93</td>\n",
              "    </tr>\n",
              "    <tr>\n",
              "      <th>2</th>\n",
              "      <td>000229ec398224ef6ca0657da4fc703e</td>\n",
              "      <td>1</td>\n",
              "      <td>c777355d18b72b67abbeef9df44fd0fd</td>\n",
              "      <td>5b51032eddd242adc84c38acab88f23d</td>\n",
              "      <td>2018-01-18 14:48:30</td>\n",
              "      <td>199.00</td>\n",
              "      <td>17.87</td>\n",
              "    </tr>\n",
              "    <tr>\n",
              "      <th>3</th>\n",
              "      <td>00024acbcdf0a6daa1e931b038114c75</td>\n",
              "      <td>1</td>\n",
              "      <td>7634da152a4610f1595efa32f14722fc</td>\n",
              "      <td>9d7a1d34a5052409006425275ba1c2b4</td>\n",
              "      <td>2018-08-15 10:10:18</td>\n",
              "      <td>12.99</td>\n",
              "      <td>12.79</td>\n",
              "    </tr>\n",
              "    <tr>\n",
              "      <th>4</th>\n",
              "      <td>00042b26cf59d7ce69dfabb4e55b4fd9</td>\n",
              "      <td>1</td>\n",
              "      <td>ac6c3623068f30de03045865e4e10089</td>\n",
              "      <td>df560393f3a51e74553ab94004ba5c87</td>\n",
              "      <td>2017-02-13 13:57:51</td>\n",
              "      <td>199.90</td>\n",
              "      <td>18.14</td>\n",
              "    </tr>\n",
              "  </tbody>\n",
              "</table>\n",
              "</div>"
            ],
            "text/plain": [
              "                           order_id  order_item_id  \\\n",
              "0  00010242fe8c5a6d1ba2dd792cb16214              1   \n",
              "1  00018f77f2f0320c557190d7a144bdd3              1   \n",
              "2  000229ec398224ef6ca0657da4fc703e              1   \n",
              "3  00024acbcdf0a6daa1e931b038114c75              1   \n",
              "4  00042b26cf59d7ce69dfabb4e55b4fd9              1   \n",
              "\n",
              "                         product_id                         seller_id  \\\n",
              "0  4244733e06e7ecb4970a6e2683c13e61  48436dade18ac8b2bce089ec2a041202   \n",
              "1  e5f2d52b802189ee658865ca93d83a8f  dd7ddc04e1b6c2c614352b383efe2d36   \n",
              "2  c777355d18b72b67abbeef9df44fd0fd  5b51032eddd242adc84c38acab88f23d   \n",
              "3  7634da152a4610f1595efa32f14722fc  9d7a1d34a5052409006425275ba1c2b4   \n",
              "4  ac6c3623068f30de03045865e4e10089  df560393f3a51e74553ab94004ba5c87   \n",
              "\n",
              "   shipping_limit_date   price  freight_value  \n",
              "0   2017-09-19 9:45:35   58.90          13.29  \n",
              "1  2017-05-03 11:05:13  239.90          19.93  \n",
              "2  2018-01-18 14:48:30  199.00          17.87  \n",
              "3  2018-08-15 10:10:18   12.99          12.79  \n",
              "4  2017-02-13 13:57:51  199.90          18.14  "
            ]
          },
          "execution_count": 4,
          "metadata": {},
          "output_type": "execute_result"
        }
      ],
      "source": [
        "sheet_url_3 = \"https://docs.google.com/spreadsheets/d/1lZtCF58wptoowWZFiXvLZDZaJ56ReiXDLDsAS4n9piU/edit#gid=1146214494\"\n",
        "sheet_url_3_trf = sheet_url_3.replace(\"/edit#gid=\", \"/export?format=csv&gid=\")\n",
        "\n",
        "df_order_items = pd.read_csv(sheet_url_3_trf)\n",
        "df_order_items.head()"
      ]
    },
    {
      "cell_type": "markdown",
      "metadata": {
        "id": "uhkhv94FLTKE"
      },
      "source": [
        "##### Memuat tabel products"
      ]
    },
    {
      "cell_type": "code",
      "execution_count": 5,
      "metadata": {
        "colab": {
          "base_uri": "https://localhost:8080/",
          "height": 226
        },
        "id": "XYOYDKmeiNSA",
        "outputId": "20cdc0ba-f05c-47b3-c132-2ba8c19960ad"
      },
      "outputs": [
        {
          "data": {
            "text/html": [
              "<div>\n",
              "<style scoped>\n",
              "    .dataframe tbody tr th:only-of-type {\n",
              "        vertical-align: middle;\n",
              "    }\n",
              "\n",
              "    .dataframe tbody tr th {\n",
              "        vertical-align: top;\n",
              "    }\n",
              "\n",
              "    .dataframe thead th {\n",
              "        text-align: right;\n",
              "    }\n",
              "</style>\n",
              "<table border=\"1\" class=\"dataframe\">\n",
              "  <thead>\n",
              "    <tr style=\"text-align: right;\">\n",
              "      <th></th>\n",
              "      <th>product_id</th>\n",
              "      <th>product_category_name</th>\n",
              "      <th>product_name_lenght</th>\n",
              "      <th>product_description_lenght</th>\n",
              "      <th>product_photos_qty</th>\n",
              "      <th>product_weight_g</th>\n",
              "      <th>product_length_cm</th>\n",
              "      <th>product_height_cm</th>\n",
              "      <th>product_width_cm</th>\n",
              "    </tr>\n",
              "  </thead>\n",
              "  <tbody>\n",
              "    <tr>\n",
              "      <th>0</th>\n",
              "      <td>1e9e8ef04dbcff4541ed26657ea517e5</td>\n",
              "      <td>perfumaria</td>\n",
              "      <td>40.0</td>\n",
              "      <td>287.0</td>\n",
              "      <td>1.0</td>\n",
              "      <td>225.0</td>\n",
              "      <td>16.0</td>\n",
              "      <td>10.0</td>\n",
              "      <td>14.0</td>\n",
              "    </tr>\n",
              "    <tr>\n",
              "      <th>1</th>\n",
              "      <td>3aa071139cb16b67ca9e5dea641aaa2f</td>\n",
              "      <td>artes</td>\n",
              "      <td>44.0</td>\n",
              "      <td>276.0</td>\n",
              "      <td>1.0</td>\n",
              "      <td>1000.0</td>\n",
              "      <td>30.0</td>\n",
              "      <td>18.0</td>\n",
              "      <td>20.0</td>\n",
              "    </tr>\n",
              "    <tr>\n",
              "      <th>2</th>\n",
              "      <td>96bd76ec8810374ed1b65e291975717f</td>\n",
              "      <td>esporte_lazer</td>\n",
              "      <td>46.0</td>\n",
              "      <td>250.0</td>\n",
              "      <td>1.0</td>\n",
              "      <td>154.0</td>\n",
              "      <td>18.0</td>\n",
              "      <td>9.0</td>\n",
              "      <td>15.0</td>\n",
              "    </tr>\n",
              "    <tr>\n",
              "      <th>3</th>\n",
              "      <td>cef67bcfe19066a932b7673e239eb23d</td>\n",
              "      <td>bebes</td>\n",
              "      <td>27.0</td>\n",
              "      <td>261.0</td>\n",
              "      <td>1.0</td>\n",
              "      <td>371.0</td>\n",
              "      <td>26.0</td>\n",
              "      <td>4.0</td>\n",
              "      <td>26.0</td>\n",
              "    </tr>\n",
              "    <tr>\n",
              "      <th>4</th>\n",
              "      <td>9dc1a7de274444849c219cff195d0b71</td>\n",
              "      <td>utilidades_domesticas</td>\n",
              "      <td>37.0</td>\n",
              "      <td>402.0</td>\n",
              "      <td>4.0</td>\n",
              "      <td>625.0</td>\n",
              "      <td>20.0</td>\n",
              "      <td>17.0</td>\n",
              "      <td>13.0</td>\n",
              "    </tr>\n",
              "  </tbody>\n",
              "</table>\n",
              "</div>"
            ],
            "text/plain": [
              "                         product_id  product_category_name  \\\n",
              "0  1e9e8ef04dbcff4541ed26657ea517e5             perfumaria   \n",
              "1  3aa071139cb16b67ca9e5dea641aaa2f                  artes   \n",
              "2  96bd76ec8810374ed1b65e291975717f          esporte_lazer   \n",
              "3  cef67bcfe19066a932b7673e239eb23d                  bebes   \n",
              "4  9dc1a7de274444849c219cff195d0b71  utilidades_domesticas   \n",
              "\n",
              "   product_name_lenght  product_description_lenght  product_photos_qty  \\\n",
              "0                 40.0                       287.0                 1.0   \n",
              "1                 44.0                       276.0                 1.0   \n",
              "2                 46.0                       250.0                 1.0   \n",
              "3                 27.0                       261.0                 1.0   \n",
              "4                 37.0                       402.0                 4.0   \n",
              "\n",
              "   product_weight_g  product_length_cm  product_height_cm  product_width_cm  \n",
              "0             225.0               16.0               10.0              14.0  \n",
              "1            1000.0               30.0               18.0              20.0  \n",
              "2             154.0               18.0                9.0              15.0  \n",
              "3             371.0               26.0                4.0              26.0  \n",
              "4             625.0               20.0               17.0              13.0  "
            ]
          },
          "execution_count": 5,
          "metadata": {},
          "output_type": "execute_result"
        }
      ],
      "source": [
        "sheet_url_4 = \"https://docs.google.com/spreadsheets/d/1p7FCJT5-AgXjEfRKYKVC3S88rCCXLuPkkxYkrw7z7eI/edit#gid=9304127\"\n",
        "sheet_url_4_trf = sheet_url_4.replace(\"/edit#gid=\", \"/export?format=csv&gid=\")\n",
        "\n",
        "df_products= pd.read_csv(sheet_url_4_trf)\n",
        "df_products.head()"
      ]
    },
    {
      "cell_type": "markdown",
      "metadata": {
        "id": "-9IVh5wZLXNQ"
      },
      "source": [
        "##### Memuat tabel product catagory"
      ]
    },
    {
      "cell_type": "code",
      "execution_count": 6,
      "metadata": {
        "colab": {
          "base_uri": "https://localhost:8080/",
          "height": 206
        },
        "id": "1_YQf1aniihw",
        "outputId": "bc06314f-711c-4027-b00b-f61a788ed275"
      },
      "outputs": [
        {
          "data": {
            "text/html": [
              "<div>\n",
              "<style scoped>\n",
              "    .dataframe tbody tr th:only-of-type {\n",
              "        vertical-align: middle;\n",
              "    }\n",
              "\n",
              "    .dataframe tbody tr th {\n",
              "        vertical-align: top;\n",
              "    }\n",
              "\n",
              "    .dataframe thead th {\n",
              "        text-align: right;\n",
              "    }\n",
              "</style>\n",
              "<table border=\"1\" class=\"dataframe\">\n",
              "  <thead>\n",
              "    <tr style=\"text-align: right;\">\n",
              "      <th></th>\n",
              "      <th>product_category_name</th>\n",
              "      <th>product_category_name_english</th>\n",
              "    </tr>\n",
              "  </thead>\n",
              "  <tbody>\n",
              "    <tr>\n",
              "      <th>0</th>\n",
              "      <td>beleza_saude</td>\n",
              "      <td>health_beauty</td>\n",
              "    </tr>\n",
              "    <tr>\n",
              "      <th>1</th>\n",
              "      <td>informatica_acessorios</td>\n",
              "      <td>computers_accessories</td>\n",
              "    </tr>\n",
              "    <tr>\n",
              "      <th>2</th>\n",
              "      <td>automotivo</td>\n",
              "      <td>auto</td>\n",
              "    </tr>\n",
              "    <tr>\n",
              "      <th>3</th>\n",
              "      <td>cama_mesa_banho</td>\n",
              "      <td>bed_bath_table</td>\n",
              "    </tr>\n",
              "    <tr>\n",
              "      <th>4</th>\n",
              "      <td>moveis_decoracao</td>\n",
              "      <td>furniture_decor</td>\n",
              "    </tr>\n",
              "  </tbody>\n",
              "</table>\n",
              "</div>"
            ],
            "text/plain": [
              "    product_category_name product_category_name_english\n",
              "0            beleza_saude                 health_beauty\n",
              "1  informatica_acessorios         computers_accessories\n",
              "2              automotivo                          auto\n",
              "3         cama_mesa_banho                bed_bath_table\n",
              "4        moveis_decoracao               furniture_decor"
            ]
          },
          "execution_count": 6,
          "metadata": {},
          "output_type": "execute_result"
        }
      ],
      "source": [
        "sheet_url_5 = \"https://docs.google.com/spreadsheets/d/1aJCitegGPo6eSslpFxkygcW357rydUwuFljHu8d7cW8/edit#gid=1606082024\"\n",
        "sheet_url_5_trf = sheet_url_5.replace(\"/edit#gid=\", \"/export?format=csv&gid=\")\n",
        "\n",
        "df_product_catagory_name= pd.read_csv(sheet_url_5_trf)\n",
        "df_product_catagory_name.head()"
      ]
    },
    {
      "cell_type": "markdown",
      "metadata": {
        "id": "BvZAfrSH9F2U"
      },
      "source": [
        "### Assessing Data"
      ]
    },
    {
      "cell_type": "code",
      "execution_count": 7,
      "metadata": {
        "id": "tPrh8Ypu89a9"
      },
      "outputs": [],
      "source": [
        "# fungsi untuk mengecek persen missing value\n",
        "def missing_percentage(df):\n",
        "\n",
        "    total_missing = df.isnull().sum()\n",
        "    total_cells = df.size\n",
        "    percentage_missing = round((total_missing / total_cells) * 100 , 2)\n",
        "    return percentage_missing"
      ]
    },
    {
      "cell_type": "markdown",
      "metadata": {
        "id": "x7x8Eg76LuF1"
      },
      "source": [
        "#### Menilai data df_customers"
      ]
    },
    {
      "cell_type": "code",
      "execution_count": 8,
      "metadata": {
        "colab": {
          "base_uri": "https://localhost:8080/"
        },
        "id": "fx7PaLsV9G8M",
        "outputId": "2f6d8b6b-836c-44b7-e96e-d62cd2e26d84"
      },
      "outputs": [
        {
          "name": "stdout",
          "output_type": "stream",
          "text": [
            "<class 'pandas.core.frame.DataFrame'>\n",
            "RangeIndex: 99441 entries, 0 to 99440\n",
            "Data columns (total 5 columns):\n",
            " #   Column                    Non-Null Count  Dtype \n",
            "---  ------                    --------------  ----- \n",
            " 0   customer_id               99441 non-null  object\n",
            " 1   customer_unique_id        99441 non-null  object\n",
            " 2   customer_zip_code_prefix  99441 non-null  int64 \n",
            " 3   customer_city             99441 non-null  object\n",
            " 4   customer_state            99441 non-null  object\n",
            "dtypes: int64(1), object(4)\n",
            "memory usage: 3.8+ MB\n"
          ]
        }
      ],
      "source": [
        "df_customers.info()"
      ]
    },
    {
      "cell_type": "markdown",
      "metadata": {
        "id": "xvPMbT88PSP_"
      },
      "source": [
        "#### Memeriksa duplikasi dan parameter statistik df_customers\n",
        "\n",
        "\n",
        "\n"
      ]
    },
    {
      "cell_type": "code",
      "execution_count": 9,
      "metadata": {
        "colab": {
          "base_uri": "https://localhost:8080/",
          "height": 318
        },
        "id": "-N3xVhDRPQnL",
        "outputId": "961ae142-d5dd-4f27-d586-24564b7006dd"
      },
      "outputs": [
        {
          "name": "stdout",
          "output_type": "stream",
          "text": [
            "Jumlah duplikasi:  0\n"
          ]
        },
        {
          "data": {
            "text/html": [
              "<div>\n",
              "<style scoped>\n",
              "    .dataframe tbody tr th:only-of-type {\n",
              "        vertical-align: middle;\n",
              "    }\n",
              "\n",
              "    .dataframe tbody tr th {\n",
              "        vertical-align: top;\n",
              "    }\n",
              "\n",
              "    .dataframe thead th {\n",
              "        text-align: right;\n",
              "    }\n",
              "</style>\n",
              "<table border=\"1\" class=\"dataframe\">\n",
              "  <thead>\n",
              "    <tr style=\"text-align: right;\">\n",
              "      <th></th>\n",
              "      <th>customer_zip_code_prefix</th>\n",
              "    </tr>\n",
              "  </thead>\n",
              "  <tbody>\n",
              "    <tr>\n",
              "      <th>count</th>\n",
              "      <td>99441.000000</td>\n",
              "    </tr>\n",
              "    <tr>\n",
              "      <th>mean</th>\n",
              "      <td>35137.474583</td>\n",
              "    </tr>\n",
              "    <tr>\n",
              "      <th>std</th>\n",
              "      <td>29797.938996</td>\n",
              "    </tr>\n",
              "    <tr>\n",
              "      <th>min</th>\n",
              "      <td>1003.000000</td>\n",
              "    </tr>\n",
              "    <tr>\n",
              "      <th>25%</th>\n",
              "      <td>11347.000000</td>\n",
              "    </tr>\n",
              "    <tr>\n",
              "      <th>50%</th>\n",
              "      <td>24416.000000</td>\n",
              "    </tr>\n",
              "    <tr>\n",
              "      <th>75%</th>\n",
              "      <td>58900.000000</td>\n",
              "    </tr>\n",
              "    <tr>\n",
              "      <th>max</th>\n",
              "      <td>99990.000000</td>\n",
              "    </tr>\n",
              "  </tbody>\n",
              "</table>\n",
              "</div>"
            ],
            "text/plain": [
              "       customer_zip_code_prefix\n",
              "count              99441.000000\n",
              "mean               35137.474583\n",
              "std                29797.938996\n",
              "min                 1003.000000\n",
              "25%                11347.000000\n",
              "50%                24416.000000\n",
              "75%                58900.000000\n",
              "max                99990.000000"
            ]
          },
          "execution_count": 9,
          "metadata": {},
          "output_type": "execute_result"
        }
      ],
      "source": [
        "print(\"Jumlah duplikasi: \", df_customers.duplicated().sum())\n",
        "df_customers.describe()"
      ]
    },
    {
      "cell_type": "code",
      "execution_count": 10,
      "metadata": {
        "colab": {
          "base_uri": "https://localhost:8080/"
        },
        "id": "jvkkdNYkh4OT",
        "outputId": "c2e02252-097f-4f18-f139-07656139818d"
      },
      "outputs": [
        {
          "data": {
            "text/plain": [
              "customer_state\n",
              "SP    41746\n",
              "RJ    12852\n",
              "MG    11635\n",
              "RS     5466\n",
              "PR     5045\n",
              "SC     3637\n",
              "BA     3380\n",
              "DF     2140\n",
              "ES     2033\n",
              "GO     2020\n",
              "PE     1652\n",
              "CE     1336\n",
              "PA      975\n",
              "MT      907\n",
              "MA      747\n",
              "MS      715\n",
              "PB      536\n",
              "PI      495\n",
              "RN      485\n",
              "AL      413\n",
              "SE      350\n",
              "TO      280\n",
              "RO      253\n",
              "AM      148\n",
              "AC       81\n",
              "AP       68\n",
              "RR       46\n",
              "Name: count, dtype: int64"
            ]
          },
          "execution_count": 10,
          "metadata": {},
          "output_type": "execute_result"
        }
      ],
      "source": [
        "df_customers[\"customer_state\"].value_counts()"
      ]
    },
    {
      "cell_type": "markdown",
      "metadata": {
        "id": "Ewsud5fNRc2R"
      },
      "source": [
        "#### Menilai data df_orders"
      ]
    },
    {
      "cell_type": "code",
      "execution_count": 11,
      "metadata": {
        "colab": {
          "base_uri": "https://localhost:8080/"
        },
        "id": "SXIgwU2kjOWF",
        "outputId": "d218b4e8-e8d9-4201-a4ff-ddc39d2f1927"
      },
      "outputs": [
        {
          "name": "stdout",
          "output_type": "stream",
          "text": [
            "<class 'pandas.core.frame.DataFrame'>\n",
            "RangeIndex: 99441 entries, 0 to 99440\n",
            "Data columns (total 8 columns):\n",
            " #   Column                         Non-Null Count  Dtype \n",
            "---  ------                         --------------  ----- \n",
            " 0   order_id                       99441 non-null  object\n",
            " 1   customer_id                    99441 non-null  object\n",
            " 2   order_status                   99441 non-null  object\n",
            " 3   order_purchase_timestamp       99441 non-null  object\n",
            " 4   order_approved_at              99281 non-null  object\n",
            " 5   order_delivered_carrier_date   97658 non-null  object\n",
            " 6   order_delivered_customer_date  96476 non-null  object\n",
            " 7   order_estimated_delivery_date  99441 non-null  object\n",
            "dtypes: object(8)\n",
            "memory usage: 6.1+ MB\n"
          ]
        }
      ],
      "source": [
        "df_orders.info()"
      ]
    },
    {
      "cell_type": "code",
      "execution_count": 12,
      "metadata": {
        "colab": {
          "base_uri": "https://localhost:8080/"
        },
        "id": "Se1sACqkaMtF",
        "outputId": "1a41b3ec-87b1-4b3a-d3cc-a97dcd886963"
      },
      "outputs": [
        {
          "data": {
            "text/plain": [
              "order_id                            0\n",
              "customer_id                         0\n",
              "order_status                        0\n",
              "order_purchase_timestamp            0\n",
              "order_approved_at                 160\n",
              "order_delivered_carrier_date     1783\n",
              "order_delivered_customer_date    2965\n",
              "order_estimated_delivery_date       0\n",
              "dtype: int64"
            ]
          },
          "execution_count": 12,
          "metadata": {},
          "output_type": "execute_result"
        }
      ],
      "source": [
        "# Mengecek missing value\n",
        "df_orders.isna().sum()"
      ]
    },
    {
      "cell_type": "code",
      "execution_count": 13,
      "metadata": {
        "colab": {
          "base_uri": "https://localhost:8080/"
        },
        "id": "7XlQ0Vpj9RIm",
        "outputId": "264f8a29-4ed9-4d7e-bf8a-0c9389d46354"
      },
      "outputs": [
        {
          "name": "stdout",
          "output_type": "stream",
          "text": [
            "order_id                         0.00\n",
            "customer_id                      0.00\n",
            "order_status                     0.00\n",
            "order_purchase_timestamp         0.00\n",
            "order_approved_at                0.02\n",
            "order_delivered_carrier_date     0.22\n",
            "order_delivered_customer_date    0.37\n",
            "order_estimated_delivery_date    0.00\n",
            "dtype: float64\n"
          ]
        }
      ],
      "source": [
        "# Mengecek persentase missing value\n",
        "percentages = missing_percentage(df_orders)\n",
        "\n",
        "print(percentages)"
      ]
    },
    {
      "cell_type": "markdown",
      "metadata": {
        "id": "NthVkTSHacGC"
      },
      "source": [
        "Terdapat missing value pada order_approved_at sebesar 0.02%, missing value pada order_delivered_carrier_date sebesar 0.22%, dan missing value pada order_delivered_customer_date sebesar 0.37%"
      ]
    },
    {
      "cell_type": "markdown",
      "metadata": {
        "id": "hyjn6akgV8OB"
      },
      "source": [
        "#### Memeriksa duplikasi pada df_orders"
      ]
    },
    {
      "cell_type": "code",
      "execution_count": 14,
      "metadata": {
        "colab": {
          "base_uri": "https://localhost:8080/"
        },
        "id": "GDZC5FLLWF-N",
        "outputId": "b173a0c6-564e-480d-a93c-e5e8eb8d781c"
      },
      "outputs": [
        {
          "name": "stdout",
          "output_type": "stream",
          "text": [
            "Jumlah duplikasi:  0\n"
          ]
        }
      ],
      "source": [
        "print(\"Jumlah duplikasi: \", df_orders.duplicated().sum())"
      ]
    },
    {
      "cell_type": "markdown",
      "metadata": {
        "id": "jLvKT96MVO-N"
      },
      "source": [
        "#### Menilai data df_order_items"
      ]
    },
    {
      "cell_type": "code",
      "execution_count": 15,
      "metadata": {
        "colab": {
          "base_uri": "https://localhost:8080/"
        },
        "id": "TXPMNg35jYwI",
        "outputId": "aaaec9e3-eee3-42d5-d160-2e12fa380b4d"
      },
      "outputs": [
        {
          "name": "stdout",
          "output_type": "stream",
          "text": [
            "<class 'pandas.core.frame.DataFrame'>\n",
            "RangeIndex: 112650 entries, 0 to 112649\n",
            "Data columns (total 7 columns):\n",
            " #   Column               Non-Null Count   Dtype  \n",
            "---  ------               --------------   -----  \n",
            " 0   order_id             112650 non-null  object \n",
            " 1   order_item_id        112650 non-null  int64  \n",
            " 2   product_id           112650 non-null  object \n",
            " 3   seller_id            112650 non-null  object \n",
            " 4   shipping_limit_date  112650 non-null  object \n",
            " 5   price                112650 non-null  float64\n",
            " 6   freight_value        112650 non-null  float64\n",
            "dtypes: float64(2), int64(1), object(4)\n",
            "memory usage: 6.0+ MB\n"
          ]
        }
      ],
      "source": [
        "df_order_items.info()"
      ]
    },
    {
      "cell_type": "markdown",
      "metadata": {
        "id": "J2Ytp7h4Xl4v"
      },
      "source": [
        "Tidak terdapat perbedaan jumlah data sehingga tidak terdapat missing value pada df_order_items"
      ]
    },
    {
      "cell_type": "markdown",
      "metadata": {
        "id": "Iuyd0wO8YYXa"
      },
      "source": [
        "#### Memeriksa duplikasi dan parameter statistik df_order_items"
      ]
    },
    {
      "cell_type": "code",
      "execution_count": 16,
      "metadata": {
        "colab": {
          "base_uri": "https://localhost:8080/",
          "height": 318
        },
        "id": "-KsJ9WHdYZ79",
        "outputId": "1c617002-6f3b-4446-bd97-7143795d047c"
      },
      "outputs": [
        {
          "name": "stdout",
          "output_type": "stream",
          "text": [
            "Jumlah duplikasi:  0\n"
          ]
        },
        {
          "data": {
            "text/html": [
              "<div>\n",
              "<style scoped>\n",
              "    .dataframe tbody tr th:only-of-type {\n",
              "        vertical-align: middle;\n",
              "    }\n",
              "\n",
              "    .dataframe tbody tr th {\n",
              "        vertical-align: top;\n",
              "    }\n",
              "\n",
              "    .dataframe thead th {\n",
              "        text-align: right;\n",
              "    }\n",
              "</style>\n",
              "<table border=\"1\" class=\"dataframe\">\n",
              "  <thead>\n",
              "    <tr style=\"text-align: right;\">\n",
              "      <th></th>\n",
              "      <th>order_item_id</th>\n",
              "      <th>price</th>\n",
              "      <th>freight_value</th>\n",
              "    </tr>\n",
              "  </thead>\n",
              "  <tbody>\n",
              "    <tr>\n",
              "      <th>count</th>\n",
              "      <td>112650.000000</td>\n",
              "      <td>112650.000000</td>\n",
              "      <td>112650.000000</td>\n",
              "    </tr>\n",
              "    <tr>\n",
              "      <th>mean</th>\n",
              "      <td>1.197834</td>\n",
              "      <td>120.653739</td>\n",
              "      <td>19.990320</td>\n",
              "    </tr>\n",
              "    <tr>\n",
              "      <th>std</th>\n",
              "      <td>0.705124</td>\n",
              "      <td>183.633928</td>\n",
              "      <td>15.806405</td>\n",
              "    </tr>\n",
              "    <tr>\n",
              "      <th>min</th>\n",
              "      <td>1.000000</td>\n",
              "      <td>0.850000</td>\n",
              "      <td>0.000000</td>\n",
              "    </tr>\n",
              "    <tr>\n",
              "      <th>25%</th>\n",
              "      <td>1.000000</td>\n",
              "      <td>39.900000</td>\n",
              "      <td>13.080000</td>\n",
              "    </tr>\n",
              "    <tr>\n",
              "      <th>50%</th>\n",
              "      <td>1.000000</td>\n",
              "      <td>74.990000</td>\n",
              "      <td>16.260000</td>\n",
              "    </tr>\n",
              "    <tr>\n",
              "      <th>75%</th>\n",
              "      <td>1.000000</td>\n",
              "      <td>134.900000</td>\n",
              "      <td>21.150000</td>\n",
              "    </tr>\n",
              "    <tr>\n",
              "      <th>max</th>\n",
              "      <td>21.000000</td>\n",
              "      <td>6735.000000</td>\n",
              "      <td>409.680000</td>\n",
              "    </tr>\n",
              "  </tbody>\n",
              "</table>\n",
              "</div>"
            ],
            "text/plain": [
              "       order_item_id          price  freight_value\n",
              "count  112650.000000  112650.000000  112650.000000\n",
              "mean        1.197834     120.653739      19.990320\n",
              "std         0.705124     183.633928      15.806405\n",
              "min         1.000000       0.850000       0.000000\n",
              "25%         1.000000      39.900000      13.080000\n",
              "50%         1.000000      74.990000      16.260000\n",
              "75%         1.000000     134.900000      21.150000\n",
              "max        21.000000    6735.000000     409.680000"
            ]
          },
          "execution_count": 16,
          "metadata": {},
          "output_type": "execute_result"
        }
      ],
      "source": [
        "print(\"Jumlah duplikasi: \", df_order_items.duplicated().sum())\n",
        "df_order_items.describe()"
      ]
    },
    {
      "cell_type": "markdown",
      "metadata": {
        "id": "OFcvDXpMbo_8"
      },
      "source": [
        "#### Menilai data df_products"
      ]
    },
    {
      "cell_type": "code",
      "execution_count": 17,
      "metadata": {
        "colab": {
          "base_uri": "https://localhost:8080/"
        },
        "id": "GHVwicywjZEY",
        "outputId": "8441fd7e-1de8-4e62-d7bb-a003521169ab"
      },
      "outputs": [
        {
          "name": "stdout",
          "output_type": "stream",
          "text": [
            "<class 'pandas.core.frame.DataFrame'>\n",
            "RangeIndex: 32951 entries, 0 to 32950\n",
            "Data columns (total 9 columns):\n",
            " #   Column                      Non-Null Count  Dtype  \n",
            "---  ------                      --------------  -----  \n",
            " 0   product_id                  32951 non-null  object \n",
            " 1   product_category_name       32341 non-null  object \n",
            " 2   product_name_lenght         32341 non-null  float64\n",
            " 3   product_description_lenght  32341 non-null  float64\n",
            " 4   product_photos_qty          32341 non-null  float64\n",
            " 5   product_weight_g            32949 non-null  float64\n",
            " 6   product_length_cm           32949 non-null  float64\n",
            " 7   product_height_cm           32949 non-null  float64\n",
            " 8   product_width_cm            32949 non-null  float64\n",
            "dtypes: float64(7), object(2)\n",
            "memory usage: 2.3+ MB\n"
          ]
        }
      ],
      "source": [
        "df_products.info()"
      ]
    },
    {
      "cell_type": "markdown",
      "metadata": {
        "id": "SbM2l0-Lb1V2"
      },
      "source": [
        "Terdapat perbedaan jumlah nilai sehingga terdapat missing value\n"
      ]
    },
    {
      "cell_type": "code",
      "execution_count": 18,
      "metadata": {
        "colab": {
          "base_uri": "https://localhost:8080/"
        },
        "id": "E-j1kGrCcCEe",
        "outputId": "1eef9133-1ab8-4506-a358-d78ed72a976c"
      },
      "outputs": [
        {
          "data": {
            "text/plain": [
              "product_id                      0\n",
              "product_category_name         610\n",
              "product_name_lenght           610\n",
              "product_description_lenght    610\n",
              "product_photos_qty            610\n",
              "product_weight_g                2\n",
              "product_length_cm               2\n",
              "product_height_cm               2\n",
              "product_width_cm                2\n",
              "dtype: int64"
            ]
          },
          "execution_count": 18,
          "metadata": {},
          "output_type": "execute_result"
        }
      ],
      "source": [
        "# Mengecek missing value\n",
        "df_products.isna().sum()"
      ]
    },
    {
      "cell_type": "code",
      "execution_count": 19,
      "metadata": {
        "colab": {
          "base_uri": "https://localhost:8080/",
          "height": 338
        },
        "id": "LgeQkSvHcQmm",
        "outputId": "be6a4815-da4c-4782-c287-c71b74ab3c97"
      },
      "outputs": [
        {
          "name": "stdout",
          "output_type": "stream",
          "text": [
            "Jumlah duplikasi:  0\n"
          ]
        },
        {
          "data": {
            "text/html": [
              "<div>\n",
              "<style scoped>\n",
              "    .dataframe tbody tr th:only-of-type {\n",
              "        vertical-align: middle;\n",
              "    }\n",
              "\n",
              "    .dataframe tbody tr th {\n",
              "        vertical-align: top;\n",
              "    }\n",
              "\n",
              "    .dataframe thead th {\n",
              "        text-align: right;\n",
              "    }\n",
              "</style>\n",
              "<table border=\"1\" class=\"dataframe\">\n",
              "  <thead>\n",
              "    <tr style=\"text-align: right;\">\n",
              "      <th></th>\n",
              "      <th>product_name_lenght</th>\n",
              "      <th>product_description_lenght</th>\n",
              "      <th>product_photos_qty</th>\n",
              "      <th>product_weight_g</th>\n",
              "      <th>product_length_cm</th>\n",
              "      <th>product_height_cm</th>\n",
              "      <th>product_width_cm</th>\n",
              "    </tr>\n",
              "  </thead>\n",
              "  <tbody>\n",
              "    <tr>\n",
              "      <th>count</th>\n",
              "      <td>32341.000000</td>\n",
              "      <td>32341.000000</td>\n",
              "      <td>32341.000000</td>\n",
              "      <td>32949.000000</td>\n",
              "      <td>32949.000000</td>\n",
              "      <td>32949.000000</td>\n",
              "      <td>32949.000000</td>\n",
              "    </tr>\n",
              "    <tr>\n",
              "      <th>mean</th>\n",
              "      <td>48.476949</td>\n",
              "      <td>771.495285</td>\n",
              "      <td>2.188986</td>\n",
              "      <td>2276.472488</td>\n",
              "      <td>30.815078</td>\n",
              "      <td>16.937661</td>\n",
              "      <td>23.196728</td>\n",
              "    </tr>\n",
              "    <tr>\n",
              "      <th>std</th>\n",
              "      <td>10.245741</td>\n",
              "      <td>635.115225</td>\n",
              "      <td>1.736766</td>\n",
              "      <td>4282.038731</td>\n",
              "      <td>16.914458</td>\n",
              "      <td>13.637554</td>\n",
              "      <td>12.079047</td>\n",
              "    </tr>\n",
              "    <tr>\n",
              "      <th>min</th>\n",
              "      <td>5.000000</td>\n",
              "      <td>4.000000</td>\n",
              "      <td>1.000000</td>\n",
              "      <td>0.000000</td>\n",
              "      <td>7.000000</td>\n",
              "      <td>2.000000</td>\n",
              "      <td>6.000000</td>\n",
              "    </tr>\n",
              "    <tr>\n",
              "      <th>25%</th>\n",
              "      <td>42.000000</td>\n",
              "      <td>339.000000</td>\n",
              "      <td>1.000000</td>\n",
              "      <td>300.000000</td>\n",
              "      <td>18.000000</td>\n",
              "      <td>8.000000</td>\n",
              "      <td>15.000000</td>\n",
              "    </tr>\n",
              "    <tr>\n",
              "      <th>50%</th>\n",
              "      <td>51.000000</td>\n",
              "      <td>595.000000</td>\n",
              "      <td>1.000000</td>\n",
              "      <td>700.000000</td>\n",
              "      <td>25.000000</td>\n",
              "      <td>13.000000</td>\n",
              "      <td>20.000000</td>\n",
              "    </tr>\n",
              "    <tr>\n",
              "      <th>75%</th>\n",
              "      <td>57.000000</td>\n",
              "      <td>972.000000</td>\n",
              "      <td>3.000000</td>\n",
              "      <td>1900.000000</td>\n",
              "      <td>38.000000</td>\n",
              "      <td>21.000000</td>\n",
              "      <td>30.000000</td>\n",
              "    </tr>\n",
              "    <tr>\n",
              "      <th>max</th>\n",
              "      <td>76.000000</td>\n",
              "      <td>3992.000000</td>\n",
              "      <td>20.000000</td>\n",
              "      <td>40425.000000</td>\n",
              "      <td>105.000000</td>\n",
              "      <td>105.000000</td>\n",
              "      <td>118.000000</td>\n",
              "    </tr>\n",
              "  </tbody>\n",
              "</table>\n",
              "</div>"
            ],
            "text/plain": [
              "       product_name_lenght  product_description_lenght  product_photos_qty  \\\n",
              "count         32341.000000                32341.000000        32341.000000   \n",
              "mean             48.476949                  771.495285            2.188986   \n",
              "std              10.245741                  635.115225            1.736766   \n",
              "min               5.000000                    4.000000            1.000000   \n",
              "25%              42.000000                  339.000000            1.000000   \n",
              "50%              51.000000                  595.000000            1.000000   \n",
              "75%              57.000000                  972.000000            3.000000   \n",
              "max              76.000000                 3992.000000           20.000000   \n",
              "\n",
              "       product_weight_g  product_length_cm  product_height_cm  \\\n",
              "count      32949.000000       32949.000000       32949.000000   \n",
              "mean        2276.472488          30.815078          16.937661   \n",
              "std         4282.038731          16.914458          13.637554   \n",
              "min            0.000000           7.000000           2.000000   \n",
              "25%          300.000000          18.000000           8.000000   \n",
              "50%          700.000000          25.000000          13.000000   \n",
              "75%         1900.000000          38.000000          21.000000   \n",
              "max        40425.000000         105.000000         105.000000   \n",
              "\n",
              "       product_width_cm  \n",
              "count      32949.000000  \n",
              "mean          23.196728  \n",
              "std           12.079047  \n",
              "min            6.000000  \n",
              "25%           15.000000  \n",
              "50%           20.000000  \n",
              "75%           30.000000  \n",
              "max          118.000000  "
            ]
          },
          "execution_count": 19,
          "metadata": {},
          "output_type": "execute_result"
        }
      ],
      "source": [
        "print(\"Jumlah duplikasi: \", df_products.duplicated().sum())\n",
        "df_products.describe()"
      ]
    },
    {
      "cell_type": "code",
      "execution_count": 20,
      "metadata": {},
      "outputs": [
        {
          "name": "stdout",
          "output_type": "stream",
          "text": [
            "product_id                    0.00\n",
            "product_category_name         0.21\n",
            "product_name_lenght           0.21\n",
            "product_description_lenght    0.21\n",
            "product_photos_qty            0.21\n",
            "product_weight_g              0.00\n",
            "product_length_cm             0.00\n",
            "product_height_cm             0.00\n",
            "product_width_cm              0.00\n",
            "dtype: float64\n"
          ]
        }
      ],
      "source": [
        "# Mengecek persentase missing value\n",
        "percentages_product = missing_percentage(df_products)\n",
        "print(percentages_product)"
      ]
    },
    {
      "cell_type": "markdown",
      "metadata": {
        "id": "89Y1a-Vwy70C"
      },
      "source": [
        "#### Menilai data df_product_catagory_name"
      ]
    },
    {
      "cell_type": "code",
      "execution_count": 21,
      "metadata": {
        "colab": {
          "base_uri": "https://localhost:8080/"
        },
        "id": "m1hNthIkjZPI",
        "outputId": "bc1bb4a6-760a-4e60-dd81-797fce6a8748"
      },
      "outputs": [
        {
          "name": "stdout",
          "output_type": "stream",
          "text": [
            "<class 'pandas.core.frame.DataFrame'>\n",
            "RangeIndex: 71 entries, 0 to 70\n",
            "Data columns (total 2 columns):\n",
            " #   Column                         Non-Null Count  Dtype \n",
            "---  ------                         --------------  ----- \n",
            " 0   product_category_name          71 non-null     object\n",
            " 1   product_category_name_english  71 non-null     object\n",
            "dtypes: object(2)\n",
            "memory usage: 1.2+ KB\n"
          ]
        }
      ],
      "source": [
        "df_product_catagory_name.info()"
      ]
    },
    {
      "cell_type": "markdown",
      "metadata": {
        "id": "IAmM86BYzJD4"
      },
      "source": [
        "Tidak terdapat perbedaan jumlah data per kolom sehingga tidak terdapat missing data\n"
      ]
    },
    {
      "cell_type": "code",
      "execution_count": 22,
      "metadata": {
        "colab": {
          "base_uri": "https://localhost:8080/"
        },
        "id": "4Z1fRj1uzXOc",
        "outputId": "d55ee387-15a7-4d21-b020-e0f7981f2a0d"
      },
      "outputs": [
        {
          "name": "stdout",
          "output_type": "stream",
          "text": [
            "Jumlah duplikat:  0\n"
          ]
        }
      ],
      "source": [
        "print(\"Jumlah duplikat: \", df_product_catagory_name.duplicated().sum())"
      ]
    },
    {
      "cell_type": "markdown",
      "metadata": {
        "id": "Uz5dgcJm9HW5"
      },
      "source": [
        "### Cleaning Data"
      ]
    },
    {
      "cell_type": "markdown",
      "metadata": {
        "id": "BnGqtHH8irwH"
      },
      "source": [
        "#### Menghapus kolom yang tidak diperlukan"
      ]
    },
    {
      "cell_type": "code",
      "execution_count": 23,
      "metadata": {
        "id": "CCszTdXD9Ivf"
      },
      "outputs": [],
      "source": [
        "product_to_drop = [\"product_name_lenght\", \"product_description_lenght\", \"product_photos_qty\",\n",
        "                   \"product_weight_g\", \"product_length_cm\", \"product_height_cm\",\n",
        "                   \"product_width_cm\"\n",
        "]\n",
        "df_products = df_products.drop((product_to_drop), axis=1)"
      ]
    },
    {
      "cell_type": "code",
      "execution_count": 24,
      "metadata": {
        "id": "rL9IoxV7Z9dC"
      },
      "outputs": [],
      "source": [
        "df_customers = df_customers.drop((\"customer_unique_id\"), axis=1)"
      ]
    },
    {
      "cell_type": "code",
      "execution_count": 25,
      "metadata": {
        "id": "_lBf9bndgarN"
      },
      "outputs": [],
      "source": [
        "df_orders = df_orders.drop([\"order_approved_at\", \"order_delivered_carrier_date\",\n",
        "                            \"order_delivered_customer_date\", \"order_estimated_delivery_date\"\n",
        "], axis=1)"
      ]
    },
    {
      "cell_type": "code",
      "execution_count": 26,
      "metadata": {
        "id": "4L7Hm-0VhDUV"
      },
      "outputs": [],
      "source": [
        "df_order_items = df_order_items.drop([\"shipping_limit_date\", \"freight_value\"], axis=1)"
      ]
    },
    {
      "cell_type": "markdown",
      "metadata": {
        "id": "1Ol7rKorjJ8a"
      },
      "source": [
        "#### Menggabungkan semua data menjadi satu tabel"
      ]
    },
    {
      "cell_type": "code",
      "execution_count": 27,
      "metadata": {
        "colab": {
          "base_uri": "https://localhost:8080/",
          "height": 261
        },
        "id": "3KMJDe1GjKTD",
        "outputId": "4728c1d7-93ac-4154-c579-f52f6c48e8ef"
      },
      "outputs": [
        {
          "data": {
            "text/html": [
              "<div>\n",
              "<style scoped>\n",
              "    .dataframe tbody tr th:only-of-type {\n",
              "        vertical-align: middle;\n",
              "    }\n",
              "\n",
              "    .dataframe tbody tr th {\n",
              "        vertical-align: top;\n",
              "    }\n",
              "\n",
              "    .dataframe thead th {\n",
              "        text-align: right;\n",
              "    }\n",
              "</style>\n",
              "<table border=\"1\" class=\"dataframe\">\n",
              "  <thead>\n",
              "    <tr style=\"text-align: right;\">\n",
              "      <th></th>\n",
              "      <th>customer_id</th>\n",
              "      <th>customer_zip_code_prefix</th>\n",
              "      <th>customer_city</th>\n",
              "      <th>customer_state</th>\n",
              "      <th>order_id</th>\n",
              "      <th>order_status</th>\n",
              "      <th>order_purchase_timestamp</th>\n",
              "      <th>order_item_id</th>\n",
              "      <th>product_id</th>\n",
              "      <th>seller_id</th>\n",
              "      <th>price</th>\n",
              "      <th>product_category_name</th>\n",
              "      <th>product_category_name_english</th>\n",
              "    </tr>\n",
              "  </thead>\n",
              "  <tbody>\n",
              "    <tr>\n",
              "      <th>0</th>\n",
              "      <td>06b8999e2fba1a1fbc88172c00ba8bc7</td>\n",
              "      <td>14409</td>\n",
              "      <td>franca</td>\n",
              "      <td>SP</td>\n",
              "      <td>00e7ee1b050b8499577073aeb2a297a1</td>\n",
              "      <td>delivered</td>\n",
              "      <td>2017-05-16 15:05:35</td>\n",
              "      <td>1</td>\n",
              "      <td>a9516a079e37a9c9c36b9b78b10169e8</td>\n",
              "      <td>7c67e1448b00f6e969d365cea6b010ab</td>\n",
              "      <td>124.99</td>\n",
              "      <td>moveis_escritorio</td>\n",
              "      <td>office_furniture</td>\n",
              "    </tr>\n",
              "    <tr>\n",
              "      <th>1</th>\n",
              "      <td>18955e83d337fd6b2def6b18a428ac77</td>\n",
              "      <td>9790</td>\n",
              "      <td>sao bernardo do campo</td>\n",
              "      <td>SP</td>\n",
              "      <td>29150127e6685892b6eab3eec79f59c7</td>\n",
              "      <td>delivered</td>\n",
              "      <td>2018-01-12 20:48:24</td>\n",
              "      <td>1</td>\n",
              "      <td>4aa6014eceb682077f9dc4bffebc05b0</td>\n",
              "      <td>b8bc237ba3788b23da09c0f1f3a3288c</td>\n",
              "      <td>289.00</td>\n",
              "      <td>utilidades_domesticas</td>\n",
              "      <td>housewares</td>\n",
              "    </tr>\n",
              "    <tr>\n",
              "      <th>2</th>\n",
              "      <td>4e7b3e00288586ebd08712fdd0374a03</td>\n",
              "      <td>1151</td>\n",
              "      <td>sao paulo</td>\n",
              "      <td>SP</td>\n",
              "      <td>b2059ed67ce144a36e2aa97d2c9e9ad2</td>\n",
              "      <td>delivered</td>\n",
              "      <td>2018-05-19 16:07:45</td>\n",
              "      <td>1</td>\n",
              "      <td>bd07b66896d6f1494f5b86251848ced7</td>\n",
              "      <td>7c67e1448b00f6e969d365cea6b010ab</td>\n",
              "      <td>139.94</td>\n",
              "      <td>moveis_escritorio</td>\n",
              "      <td>office_furniture</td>\n",
              "    </tr>\n",
              "    <tr>\n",
              "      <th>3</th>\n",
              "      <td>b2b6027bc5c5109e529d4dc6358b12c3</td>\n",
              "      <td>8775</td>\n",
              "      <td>mogi das cruzes</td>\n",
              "      <td>SP</td>\n",
              "      <td>951670f92359f4fe4a63112aa7306eba</td>\n",
              "      <td>delivered</td>\n",
              "      <td>2018-03-13 16:06:38</td>\n",
              "      <td>1</td>\n",
              "      <td>a5647c44af977b148e0a3a4751a09e2e</td>\n",
              "      <td>7c67e1448b00f6e969d365cea6b010ab</td>\n",
              "      <td>149.94</td>\n",
              "      <td>moveis_escritorio</td>\n",
              "      <td>office_furniture</td>\n",
              "    </tr>\n",
              "    <tr>\n",
              "      <th>4</th>\n",
              "      <td>4f2d8ab171c80ec8364f7c12e35b23ad</td>\n",
              "      <td>13056</td>\n",
              "      <td>campinas</td>\n",
              "      <td>SP</td>\n",
              "      <td>6b7d50bd145f6fc7f33cebabd7e49d0f</td>\n",
              "      <td>delivered</td>\n",
              "      <td>2018-07-29 9:51:30</td>\n",
              "      <td>1</td>\n",
              "      <td>9391a573abe00141c56e38d84d7d5b3b</td>\n",
              "      <td>4a3ca9315b744ce9f8e9374361493884</td>\n",
              "      <td>230.00</td>\n",
              "      <td>casa_conforto</td>\n",
              "      <td>home_confort</td>\n",
              "    </tr>\n",
              "  </tbody>\n",
              "</table>\n",
              "</div>"
            ],
            "text/plain": [
              "                        customer_id  customer_zip_code_prefix  \\\n",
              "0  06b8999e2fba1a1fbc88172c00ba8bc7                     14409   \n",
              "1  18955e83d337fd6b2def6b18a428ac77                      9790   \n",
              "2  4e7b3e00288586ebd08712fdd0374a03                      1151   \n",
              "3  b2b6027bc5c5109e529d4dc6358b12c3                      8775   \n",
              "4  4f2d8ab171c80ec8364f7c12e35b23ad                     13056   \n",
              "\n",
              "           customer_city customer_state                          order_id  \\\n",
              "0                 franca             SP  00e7ee1b050b8499577073aeb2a297a1   \n",
              "1  sao bernardo do campo             SP  29150127e6685892b6eab3eec79f59c7   \n",
              "2              sao paulo             SP  b2059ed67ce144a36e2aa97d2c9e9ad2   \n",
              "3        mogi das cruzes             SP  951670f92359f4fe4a63112aa7306eba   \n",
              "4               campinas             SP  6b7d50bd145f6fc7f33cebabd7e49d0f   \n",
              "\n",
              "  order_status order_purchase_timestamp  order_item_id  \\\n",
              "0    delivered      2017-05-16 15:05:35              1   \n",
              "1    delivered      2018-01-12 20:48:24              1   \n",
              "2    delivered      2018-05-19 16:07:45              1   \n",
              "3    delivered      2018-03-13 16:06:38              1   \n",
              "4    delivered       2018-07-29 9:51:30              1   \n",
              "\n",
              "                         product_id                         seller_id   price  \\\n",
              "0  a9516a079e37a9c9c36b9b78b10169e8  7c67e1448b00f6e969d365cea6b010ab  124.99   \n",
              "1  4aa6014eceb682077f9dc4bffebc05b0  b8bc237ba3788b23da09c0f1f3a3288c  289.00   \n",
              "2  bd07b66896d6f1494f5b86251848ced7  7c67e1448b00f6e969d365cea6b010ab  139.94   \n",
              "3  a5647c44af977b148e0a3a4751a09e2e  7c67e1448b00f6e969d365cea6b010ab  149.94   \n",
              "4  9391a573abe00141c56e38d84d7d5b3b  4a3ca9315b744ce9f8e9374361493884  230.00   \n",
              "\n",
              "   product_category_name product_category_name_english  \n",
              "0      moveis_escritorio              office_furniture  \n",
              "1  utilidades_domesticas                    housewares  \n",
              "2      moveis_escritorio              office_furniture  \n",
              "3      moveis_escritorio              office_furniture  \n",
              "4          casa_conforto                  home_confort  "
            ]
          },
          "execution_count": 27,
          "metadata": {},
          "output_type": "execute_result"
        }
      ],
      "source": [
        "df1 = pd.merge(df_order_items, df_products, on=\"product_id\", how=\"outer\")\n",
        "df2 = pd.merge(df_customers, df_orders, on=\"customer_id\", how=\"outer\")\n",
        "df3 = pd.merge(df1, df_product_catagory_name, on=\"product_category_name\", how = \"outer\")\n",
        "df_sales = pd.merge(df2, df3, on=\"order_id\", how = \"inner\")\n",
        "df_sales.head()"
      ]
    },
    {
      "cell_type": "code",
      "execution_count": 28,
      "metadata": {
        "id": "RmR02q-imenD"
      },
      "outputs": [
        {
          "name": "stdout",
          "output_type": "stream",
          "text": [
            "customer_id                      0.00\n",
            "customer_zip_code_prefix         0.00\n",
            "customer_city                    0.00\n",
            "customer_state                   0.00\n",
            "order_id                         0.00\n",
            "order_status                     0.00\n",
            "order_purchase_timestamp         0.00\n",
            "order_item_id                    0.00\n",
            "product_id                       0.00\n",
            "seller_id                        0.00\n",
            "price                            0.00\n",
            "product_category_name            0.11\n",
            "product_category_name_english    0.11\n",
            "dtype: float64\n"
          ]
        }
      ],
      "source": [
        "# Mengecek persentase missing value\n",
        "percentages_sales = missing_percentage(df_sales)\n",
        "print(percentages_sales)"
      ]
    },
    {
      "cell_type": "code",
      "execution_count": 30,
      "metadata": {
        "colab": {
          "base_uri": "https://localhost:8080/"
        },
        "id": "eyRBHcr_nqom",
        "outputId": "95e701e2-c68a-48e9-bd34-446a4838ace7"
      },
      "outputs": [
        {
          "name": "stdout",
          "output_type": "stream",
          "text": [
            "<class 'pandas.core.frame.DataFrame'>\n",
            "RangeIndex: 112650 entries, 0 to 112649\n",
            "Data columns (total 13 columns):\n",
            " #   Column                         Non-Null Count   Dtype  \n",
            "---  ------                         --------------   -----  \n",
            " 0   customer_id                    112650 non-null  object \n",
            " 1   customer_zip_code_prefix       112650 non-null  int64  \n",
            " 2   customer_city                  112650 non-null  object \n",
            " 3   customer_state                 112650 non-null  object \n",
            " 4   order_id                       112650 non-null  object \n",
            " 5   order_status                   112650 non-null  object \n",
            " 6   order_purchase_timestamp       112650 non-null  object \n",
            " 7   order_item_id                  112650 non-null  int64  \n",
            " 8   product_id                     112650 non-null  object \n",
            " 9   seller_id                      112650 non-null  object \n",
            " 10  price                          112650 non-null  float64\n",
            " 11  product_category_name          111047 non-null  object \n",
            " 12  product_category_name_english  111023 non-null  object \n",
            "dtypes: float64(1), int64(2), object(10)\n",
            "memory usage: 11.2+ MB\n"
          ]
        }
      ],
      "source": [
        "df_sales.info()"
      ]
    },
    {
      "cell_type": "code",
      "execution_count": 31,
      "metadata": {
        "id": "ioJax4XKpTgw"
      },
      "outputs": [],
      "source": [
        "# Menghapus baris yang berisi missing value karena product_category_name tidak dapat diisi dan persentase missing value kecil (<1%)\n",
        "df_sales_cleaned = df_sales.dropna()"
      ]
    },
    {
      "cell_type": "code",
      "execution_count": 32,
      "metadata": {
        "colab": {
          "base_uri": "https://localhost:8080/"
        },
        "id": "k2Vde0HEph5j",
        "outputId": "6295917b-b298-456a-f778-415bd3df20a4"
      },
      "outputs": [
        {
          "name": "stdout",
          "output_type": "stream",
          "text": [
            "customer_id                      0.0\n",
            "customer_zip_code_prefix         0.0\n",
            "customer_city                    0.0\n",
            "customer_state                   0.0\n",
            "order_id                         0.0\n",
            "order_status                     0.0\n",
            "order_purchase_timestamp         0.0\n",
            "order_item_id                    0.0\n",
            "product_id                       0.0\n",
            "seller_id                        0.0\n",
            "price                            0.0\n",
            "product_category_name            0.0\n",
            "product_category_name_english    0.0\n",
            "dtype: float64\n"
          ]
        }
      ],
      "source": [
        "# Check ulang missing values df_sales\n",
        "missing_values_2 = df_sales_cleaned.isnull().sum()\n",
        "total_values_2 = df_sales_cleaned.size\n",
        "percentage_missing_after = (missing_values_2 / total_values_2) * 100\n",
        "print(percentage_missing_after)"
      ]
    },
    {
      "cell_type": "markdown",
      "metadata": {
        "id": "EyPJaCDm9KFb"
      },
      "source": [
        "## Exploratory Data Analysis (EDA)"
      ]
    },
    {
      "cell_type": "markdown",
      "metadata": {
        "id": "hxgJ6qd69Mce"
      },
      "source": [
        "### Eksplorasi data customers"
      ]
    },
    {
      "cell_type": "code",
      "execution_count": 33,
      "metadata": {
        "colab": {
          "base_uri": "https://localhost:8080/"
        },
        "id": "Xo68yguo9LTl",
        "outputId": "21a63f2d-ec40-4999-e38f-cec83f56d0df"
      },
      "outputs": [
        {
          "data": {
            "text/plain": [
              "customer_state\n",
              "SP    40801\n",
              "RJ    12569\n",
              "MG    11375\n",
              "RS     5351\n",
              "PR     4928\n",
              "SC     3554\n",
              "BA     3314\n",
              "DF     2094\n",
              "ES     2008\n",
              "GO     1959\n",
              "PE     1630\n",
              "CE     1312\n",
              "PA      951\n",
              "MT      891\n",
              "MA      730\n",
              "MS      700\n",
              "PB      523\n",
              "PI      486\n",
              "RN      476\n",
              "AL      407\n",
              "SE      343\n",
              "TO      275\n",
              "RO      242\n",
              "AM      146\n",
              "AC       79\n",
              "AP       68\n",
              "RR       44\n",
              "Name: customer_id, dtype: int64"
            ]
          },
          "execution_count": 33,
          "metadata": {},
          "output_type": "execute_result"
        }
      ],
      "source": [
        "customer_id_per_state = df_sales_cleaned.groupby(by=\"customer_state\").customer_id.nunique().sort_values(ascending=False)\n",
        "customer_id_per_state"
      ]
    },
    {
      "cell_type": "markdown",
      "metadata": {
        "id": "Idb4DYl3-AcE"
      },
      "source": [
        "### Eksplorasi data orders"
      ]
    },
    {
      "cell_type": "code",
      "execution_count": 34,
      "metadata": {
        "colab": {
          "base_uri": "https://localhost:8080/"
        },
        "id": "kQxQ6L-W-hYO",
        "outputId": "bfe46ad7-3329-44f2-edce-fca44054e303"
      },
      "outputs": [
        {
          "data": {
            "text/plain": [
              "order_status\n",
              "approved            3\n",
              "canceled          526\n",
              "delivered      108638\n",
              "invoiced          347\n",
              "processing        344\n",
              "shipped          1158\n",
              "unavailable         7\n",
              "Name: order_id, dtype: int64"
            ]
          },
          "execution_count": 34,
          "metadata": {},
          "output_type": "execute_result"
        }
      ],
      "source": [
        "order_status_by_customer_id = df_sales_cleaned.groupby(by=\"order_status\").order_id.count()\n",
        "order_status_by_customer_id"
      ]
    },
    {
      "cell_type": "markdown",
      "metadata": {
        "id": "_N1uM8qk_pf0"
      },
      "source": [
        "### Eksplorasi data gabungan"
      ]
    },
    {
      "cell_type": "code",
      "execution_count": 35,
      "metadata": {
        "colab": {
          "base_uri": "https://localhost:8080/"
        },
        "id": "sTT-_ReWAI-d",
        "outputId": "337b88ba-1adb-45f0-d6ca-ff39e357104a"
      },
      "outputs": [
        {
          "name": "stdout",
          "output_type": "stream",
          "text": [
            "<class 'pandas.core.frame.DataFrame'>\n",
            "Index: 111023 entries, 0 to 112649\n",
            "Data columns (total 13 columns):\n",
            " #   Column                         Non-Null Count   Dtype         \n",
            "---  ------                         --------------   -----         \n",
            " 0   customer_id                    111023 non-null  object        \n",
            " 1   customer_zip_code_prefix       111023 non-null  int64         \n",
            " 2   customer_city                  111023 non-null  object        \n",
            " 3   customer_state                 111023 non-null  object        \n",
            " 4   order_id                       111023 non-null  object        \n",
            " 5   order_status                   111023 non-null  object        \n",
            " 6   order_purchase_timestamp       111023 non-null  datetime64[ns]\n",
            " 7   order_item_id                  111023 non-null  int64         \n",
            " 8   product_id                     111023 non-null  object        \n",
            " 9   seller_id                      111023 non-null  object        \n",
            " 10  price                          111023 non-null  float64       \n",
            " 11  product_category_name          111023 non-null  object        \n",
            " 12  product_category_name_english  111023 non-null  object        \n",
            "dtypes: datetime64[ns](1), float64(1), int64(2), object(9)\n",
            "memory usage: 11.9+ MB\n"
          ]
        },
        {
          "name": "stderr",
          "output_type": "stream",
          "text": [
            "C:\\Users\\Hasnan Ramadhan\\AppData\\Local\\Temp\\ipykernel_17648\\1326170838.py:2: SettingWithCopyWarning: \n",
            "A value is trying to be set on a copy of a slice from a DataFrame.\n",
            "Try using .loc[row_indexer,col_indexer] = value instead\n",
            "\n",
            "See the caveats in the documentation: https://pandas.pydata.org/pandas-docs/stable/user_guide/indexing.html#returning-a-view-versus-a-copy\n",
            "  df_sales_cleaned['order_purchase_timestamp'] = pd.to_datetime(df_sales_cleaned['order_purchase_timestamp'])\n"
          ]
        }
      ],
      "source": [
        "# Assuming df_sales_cleaned is your DataFrame\n",
        "df_sales_cleaned['order_purchase_timestamp'] = pd.to_datetime(df_sales_cleaned['order_purchase_timestamp'])\n",
        "\n",
        "df_sales_cleaned.info()"
      ]
    },
    {
      "cell_type": "code",
      "execution_count": 36,
      "metadata": {
        "colab": {
          "base_uri": "https://localhost:8080/",
          "height": 469
        },
        "id": "vm5Jjat4Hk9B",
        "outputId": "a7f07639-23c4-4cf6-95bd-fe785c600e01"
      },
      "outputs": [
        {
          "name": "stderr",
          "output_type": "stream",
          "text": [
            "C:\\Users\\Hasnan Ramadhan\\AppData\\Local\\Temp\\ipykernel_17648\\3372150607.py:1: SettingWithCopyWarning: \n",
            "A value is trying to be set on a copy of a slice from a DataFrame.\n",
            "Try using .loc[row_indexer,col_indexer] = value instead\n",
            "\n",
            "See the caveats in the documentation: https://pandas.pydata.org/pandas-docs/stable/user_guide/indexing.html#returning-a-view-versus-a-copy\n",
            "  df_sales_cleaned['Month'] = df_sales_cleaned['order_purchase_timestamp'].dt.month\n",
            "C:\\Users\\Hasnan Ramadhan\\AppData\\Local\\Temp\\ipykernel_17648\\3372150607.py:2: SettingWithCopyWarning: \n",
            "A value is trying to be set on a copy of a slice from a DataFrame.\n",
            "Try using .loc[row_indexer,col_indexer] = value instead\n",
            "\n",
            "See the caveats in the documentation: https://pandas.pydata.org/pandas-docs/stable/user_guide/indexing.html#returning-a-view-versus-a-copy\n",
            "  df_sales_cleaned['Year'] = df_sales_cleaned['order_purchase_timestamp'].dt.year\n"
          ]
        },
        {
          "data": {
            "text/html": [
              "<div>\n",
              "<style scoped>\n",
              "    .dataframe tbody tr th:only-of-type {\n",
              "        vertical-align: middle;\n",
              "    }\n",
              "\n",
              "    .dataframe tbody tr th {\n",
              "        vertical-align: top;\n",
              "    }\n",
              "\n",
              "    .dataframe thead th {\n",
              "        text-align: right;\n",
              "    }\n",
              "</style>\n",
              "<table border=\"1\" class=\"dataframe\">\n",
              "  <thead>\n",
              "    <tr style=\"text-align: right;\">\n",
              "      <th></th>\n",
              "      <th>customer_id</th>\n",
              "      <th>customer_zip_code_prefix</th>\n",
              "      <th>customer_city</th>\n",
              "      <th>customer_state</th>\n",
              "      <th>order_id</th>\n",
              "      <th>order_status</th>\n",
              "      <th>order_purchase_timestamp</th>\n",
              "      <th>order_item_id</th>\n",
              "      <th>product_id</th>\n",
              "      <th>seller_id</th>\n",
              "      <th>price</th>\n",
              "      <th>product_category_name</th>\n",
              "      <th>product_category_name_english</th>\n",
              "      <th>Month</th>\n",
              "      <th>Year</th>\n",
              "    </tr>\n",
              "  </thead>\n",
              "  <tbody>\n",
              "    <tr>\n",
              "      <th>0</th>\n",
              "      <td>06b8999e2fba1a1fbc88172c00ba8bc7</td>\n",
              "      <td>14409</td>\n",
              "      <td>franca</td>\n",
              "      <td>SP</td>\n",
              "      <td>00e7ee1b050b8499577073aeb2a297a1</td>\n",
              "      <td>delivered</td>\n",
              "      <td>2017-05-16 15:05:35</td>\n",
              "      <td>1</td>\n",
              "      <td>a9516a079e37a9c9c36b9b78b10169e8</td>\n",
              "      <td>7c67e1448b00f6e969d365cea6b010ab</td>\n",
              "      <td>124.99</td>\n",
              "      <td>moveis_escritorio</td>\n",
              "      <td>office_furniture</td>\n",
              "      <td>5</td>\n",
              "      <td>2017</td>\n",
              "    </tr>\n",
              "    <tr>\n",
              "      <th>1</th>\n",
              "      <td>18955e83d337fd6b2def6b18a428ac77</td>\n",
              "      <td>9790</td>\n",
              "      <td>sao bernardo do campo</td>\n",
              "      <td>SP</td>\n",
              "      <td>29150127e6685892b6eab3eec79f59c7</td>\n",
              "      <td>delivered</td>\n",
              "      <td>2018-01-12 20:48:24</td>\n",
              "      <td>1</td>\n",
              "      <td>4aa6014eceb682077f9dc4bffebc05b0</td>\n",
              "      <td>b8bc237ba3788b23da09c0f1f3a3288c</td>\n",
              "      <td>289.00</td>\n",
              "      <td>utilidades_domesticas</td>\n",
              "      <td>housewares</td>\n",
              "      <td>1</td>\n",
              "      <td>2018</td>\n",
              "    </tr>\n",
              "    <tr>\n",
              "      <th>2</th>\n",
              "      <td>4e7b3e00288586ebd08712fdd0374a03</td>\n",
              "      <td>1151</td>\n",
              "      <td>sao paulo</td>\n",
              "      <td>SP</td>\n",
              "      <td>b2059ed67ce144a36e2aa97d2c9e9ad2</td>\n",
              "      <td>delivered</td>\n",
              "      <td>2018-05-19 16:07:45</td>\n",
              "      <td>1</td>\n",
              "      <td>bd07b66896d6f1494f5b86251848ced7</td>\n",
              "      <td>7c67e1448b00f6e969d365cea6b010ab</td>\n",
              "      <td>139.94</td>\n",
              "      <td>moveis_escritorio</td>\n",
              "      <td>office_furniture</td>\n",
              "      <td>5</td>\n",
              "      <td>2018</td>\n",
              "    </tr>\n",
              "    <tr>\n",
              "      <th>3</th>\n",
              "      <td>b2b6027bc5c5109e529d4dc6358b12c3</td>\n",
              "      <td>8775</td>\n",
              "      <td>mogi das cruzes</td>\n",
              "      <td>SP</td>\n",
              "      <td>951670f92359f4fe4a63112aa7306eba</td>\n",
              "      <td>delivered</td>\n",
              "      <td>2018-03-13 16:06:38</td>\n",
              "      <td>1</td>\n",
              "      <td>a5647c44af977b148e0a3a4751a09e2e</td>\n",
              "      <td>7c67e1448b00f6e969d365cea6b010ab</td>\n",
              "      <td>149.94</td>\n",
              "      <td>moveis_escritorio</td>\n",
              "      <td>office_furniture</td>\n",
              "      <td>3</td>\n",
              "      <td>2018</td>\n",
              "    </tr>\n",
              "    <tr>\n",
              "      <th>4</th>\n",
              "      <td>4f2d8ab171c80ec8364f7c12e35b23ad</td>\n",
              "      <td>13056</td>\n",
              "      <td>campinas</td>\n",
              "      <td>SP</td>\n",
              "      <td>6b7d50bd145f6fc7f33cebabd7e49d0f</td>\n",
              "      <td>delivered</td>\n",
              "      <td>2018-07-29 09:51:30</td>\n",
              "      <td>1</td>\n",
              "      <td>9391a573abe00141c56e38d84d7d5b3b</td>\n",
              "      <td>4a3ca9315b744ce9f8e9374361493884</td>\n",
              "      <td>230.00</td>\n",
              "      <td>casa_conforto</td>\n",
              "      <td>home_confort</td>\n",
              "      <td>7</td>\n",
              "      <td>2018</td>\n",
              "    </tr>\n",
              "  </tbody>\n",
              "</table>\n",
              "</div>"
            ],
            "text/plain": [
              "                        customer_id  customer_zip_code_prefix  \\\n",
              "0  06b8999e2fba1a1fbc88172c00ba8bc7                     14409   \n",
              "1  18955e83d337fd6b2def6b18a428ac77                      9790   \n",
              "2  4e7b3e00288586ebd08712fdd0374a03                      1151   \n",
              "3  b2b6027bc5c5109e529d4dc6358b12c3                      8775   \n",
              "4  4f2d8ab171c80ec8364f7c12e35b23ad                     13056   \n",
              "\n",
              "           customer_city customer_state                          order_id  \\\n",
              "0                 franca             SP  00e7ee1b050b8499577073aeb2a297a1   \n",
              "1  sao bernardo do campo             SP  29150127e6685892b6eab3eec79f59c7   \n",
              "2              sao paulo             SP  b2059ed67ce144a36e2aa97d2c9e9ad2   \n",
              "3        mogi das cruzes             SP  951670f92359f4fe4a63112aa7306eba   \n",
              "4               campinas             SP  6b7d50bd145f6fc7f33cebabd7e49d0f   \n",
              "\n",
              "  order_status order_purchase_timestamp  order_item_id  \\\n",
              "0    delivered      2017-05-16 15:05:35              1   \n",
              "1    delivered      2018-01-12 20:48:24              1   \n",
              "2    delivered      2018-05-19 16:07:45              1   \n",
              "3    delivered      2018-03-13 16:06:38              1   \n",
              "4    delivered      2018-07-29 09:51:30              1   \n",
              "\n",
              "                         product_id                         seller_id   price  \\\n",
              "0  a9516a079e37a9c9c36b9b78b10169e8  7c67e1448b00f6e969d365cea6b010ab  124.99   \n",
              "1  4aa6014eceb682077f9dc4bffebc05b0  b8bc237ba3788b23da09c0f1f3a3288c  289.00   \n",
              "2  bd07b66896d6f1494f5b86251848ced7  7c67e1448b00f6e969d365cea6b010ab  139.94   \n",
              "3  a5647c44af977b148e0a3a4751a09e2e  7c67e1448b00f6e969d365cea6b010ab  149.94   \n",
              "4  9391a573abe00141c56e38d84d7d5b3b  4a3ca9315b744ce9f8e9374361493884  230.00   \n",
              "\n",
              "   product_category_name product_category_name_english  Month  Year  \n",
              "0      moveis_escritorio              office_furniture      5  2017  \n",
              "1  utilidades_domesticas                    housewares      1  2018  \n",
              "2      moveis_escritorio              office_furniture      5  2018  \n",
              "3      moveis_escritorio              office_furniture      3  2018  \n",
              "4          casa_conforto                  home_confort      7  2018  "
            ]
          },
          "execution_count": 36,
          "metadata": {},
          "output_type": "execute_result"
        }
      ],
      "source": [
        "df_sales_cleaned['Month'] = df_sales_cleaned['order_purchase_timestamp'].dt.month\n",
        "df_sales_cleaned['Year'] = df_sales_cleaned['order_purchase_timestamp'].dt.year\n",
        "df_sales_cleaned.head()"
      ]
    },
    {
      "cell_type": "code",
      "execution_count": 37,
      "metadata": {
        "colab": {
          "base_uri": "https://localhost:8080/",
          "height": 461
        },
        "id": "V3BdEGYKKILN",
        "outputId": "8aaf82ca-68eb-4248-fd6b-1786d72bf009"
      },
      "outputs": [
        {
          "data": {
            "text/html": [
              "<div>\n",
              "<style scoped>\n",
              "    .dataframe tbody tr th:only-of-type {\n",
              "        vertical-align: middle;\n",
              "    }\n",
              "\n",
              "    .dataframe tbody tr th {\n",
              "        vertical-align: top;\n",
              "    }\n",
              "\n",
              "    .dataframe thead th {\n",
              "        text-align: right;\n",
              "    }\n",
              "</style>\n",
              "<table border=\"1\" class=\"dataframe\">\n",
              "  <thead>\n",
              "    <tr style=\"text-align: right;\">\n",
              "      <th></th>\n",
              "      <th>customer_id</th>\n",
              "      <th>customer_zip_code_prefix</th>\n",
              "      <th>customer_city</th>\n",
              "      <th>customer_state</th>\n",
              "      <th>order_id</th>\n",
              "      <th>order_status</th>\n",
              "      <th>order_purchase_timestamp</th>\n",
              "      <th>order_item_id</th>\n",
              "      <th>product_id</th>\n",
              "      <th>seller_id</th>\n",
              "      <th>price</th>\n",
              "      <th>product_category_name</th>\n",
              "      <th>product_category_name_english</th>\n",
              "      <th>Month</th>\n",
              "      <th>Year</th>\n",
              "    </tr>\n",
              "  </thead>\n",
              "  <tbody>\n",
              "    <tr>\n",
              "      <th>56344</th>\n",
              "      <td>69b29f0663441d192e106a8dd6d04f0d</td>\n",
              "      <td>79004</td>\n",
              "      <td>campo grande</td>\n",
              "      <td>MS</td>\n",
              "      <td>5ca64dbf0d6d6aec2ad73e74b918de04</td>\n",
              "      <td>delivered</td>\n",
              "      <td>2018-06-23 15:39:09</td>\n",
              "      <td>1</td>\n",
              "      <td>def8b2856a5c8fea8715aa849a198cd4</td>\n",
              "      <td>7299e27ed73d2ad986de7f7c77d919fa</td>\n",
              "      <td>69.99</td>\n",
              "      <td>brinquedos</td>\n",
              "      <td>toys</td>\n",
              "      <td>6</td>\n",
              "      <td>2018</td>\n",
              "    </tr>\n",
              "    <tr>\n",
              "      <th>48740</th>\n",
              "      <td>7f3a050ba677bbe9c55a06687d767c94</td>\n",
              "      <td>57035</td>\n",
              "      <td>maceio</td>\n",
              "      <td>AL</td>\n",
              "      <td>e6ed38386107802a72ec8197195f79a7</td>\n",
              "      <td>delivered</td>\n",
              "      <td>2018-03-22 12:29:47</td>\n",
              "      <td>1</td>\n",
              "      <td>e9b3cf27d68caa64832c4a7c460abcb9</td>\n",
              "      <td>7d456afc660226829370f3173d14520c</td>\n",
              "      <td>160.00</td>\n",
              "      <td>market_place</td>\n",
              "      <td>market_place</td>\n",
              "      <td>3</td>\n",
              "      <td>2018</td>\n",
              "    </tr>\n",
              "    <tr>\n",
              "      <th>90489</th>\n",
              "      <td>4129a074aa14aa3d7a5fea1f15ab73bb</td>\n",
              "      <td>56180</td>\n",
              "      <td>cabrobo</td>\n",
              "      <td>PE</td>\n",
              "      <td>1250f8fc1f64f9c63ea3cd35c0a36a85</td>\n",
              "      <td>delivered</td>\n",
              "      <td>2018-01-15 09:36:22</td>\n",
              "      <td>1</td>\n",
              "      <td>5411e9269501a870cabf632f05655131</td>\n",
              "      <td>3d871de0142ce09b7081e2b9d1733cb1</td>\n",
              "      <td>129.00</td>\n",
              "      <td>papelaria</td>\n",
              "      <td>stationery</td>\n",
              "      <td>1</td>\n",
              "      <td>2018</td>\n",
              "    </tr>\n",
              "    <tr>\n",
              "      <th>48723</th>\n",
              "      <td>494d0c71dffcc8d13d196e637a65cea9</td>\n",
              "      <td>11095</td>\n",
              "      <td>santos</td>\n",
              "      <td>SP</td>\n",
              "      <td>616dfda2aa81fd23f5e8f47619f650be</td>\n",
              "      <td>delivered</td>\n",
              "      <td>2018-08-19 22:14:43</td>\n",
              "      <td>1</td>\n",
              "      <td>ad19bca6e0f1919433d7e21d534ddb50</td>\n",
              "      <td>527801b552d0077ffd170872eb49683b</td>\n",
              "      <td>44.90</td>\n",
              "      <td>livros_interesse_geral</td>\n",
              "      <td>books_general_interest</td>\n",
              "      <td>8</td>\n",
              "      <td>2018</td>\n",
              "    </tr>\n",
              "    <tr>\n",
              "      <th>48724</th>\n",
              "      <td>8bfd33c4e201a1b9b6d07f61298bc6f0</td>\n",
              "      <td>20261</td>\n",
              "      <td>rio de janeiro</td>\n",
              "      <td>RJ</td>\n",
              "      <td>681520892dd4126ee802bcd5aca41c73</td>\n",
              "      <td>delivered</td>\n",
              "      <td>2018-08-11 17:16:14</td>\n",
              "      <td>1</td>\n",
              "      <td>4c25724f63257e928ef05a8f265e52aa</td>\n",
              "      <td>8160255418d5aaa7dbdc9f4c64ebda44</td>\n",
              "      <td>74.90</td>\n",
              "      <td>cama_mesa_banho</td>\n",
              "      <td>bed_bath_table</td>\n",
              "      <td>8</td>\n",
              "      <td>2018</td>\n",
              "    </tr>\n",
              "    <tr>\n",
              "      <th>...</th>\n",
              "      <td>...</td>\n",
              "      <td>...</td>\n",
              "      <td>...</td>\n",
              "      <td>...</td>\n",
              "      <td>...</td>\n",
              "      <td>...</td>\n",
              "      <td>...</td>\n",
              "      <td>...</td>\n",
              "      <td>...</td>\n",
              "      <td>...</td>\n",
              "      <td>...</td>\n",
              "      <td>...</td>\n",
              "      <td>...</td>\n",
              "      <td>...</td>\n",
              "      <td>...</td>\n",
              "    </tr>\n",
              "    <tr>\n",
              "      <th>20464</th>\n",
              "      <td>ac68706c6f747bf0f7e7986a7ba40155</td>\n",
              "      <td>30380</td>\n",
              "      <td>belo horizonte</td>\n",
              "      <td>MG</td>\n",
              "      <td>34c718970b33419ed6d537a90366231b</td>\n",
              "      <td>delivered</td>\n",
              "      <td>2016-10-05 08:41:18</td>\n",
              "      <td>1</td>\n",
              "      <td>7ed8c74b7ad2f1790a24a24c071da537</td>\n",
              "      <td>46dc3b2cc0980fb8ec44634e21d2718e</td>\n",
              "      <td>119.99</td>\n",
              "      <td>brinquedos</td>\n",
              "      <td>toys</td>\n",
              "      <td>10</td>\n",
              "      <td>2016</td>\n",
              "    </tr>\n",
              "    <tr>\n",
              "      <th>38133</th>\n",
              "      <td>2ff5a6455514da421bd25d6e4ceb1d12</td>\n",
              "      <td>33400</td>\n",
              "      <td>lagoa santa</td>\n",
              "      <td>MG</td>\n",
              "      <td>5cb8558cbb7c0c2f00f43468579d3e3c</td>\n",
              "      <td>shipped</td>\n",
              "      <td>2016-10-04 15:02:37</td>\n",
              "      <td>1</td>\n",
              "      <td>ad5396bf96af6ede77130e54ad266c61</td>\n",
              "      <td>184a67a8f9f63234d3a92340bbdb727f</td>\n",
              "      <td>22.37</td>\n",
              "      <td>moveis_decoracao</td>\n",
              "      <td>furniture_decor</td>\n",
              "      <td>10</td>\n",
              "      <td>2016</td>\n",
              "    </tr>\n",
              "    <tr>\n",
              "      <th>30041</th>\n",
              "      <td>b102a37db53345d7eb418649b096f8e8</td>\n",
              "      <td>11600</td>\n",
              "      <td>sao sebastiao</td>\n",
              "      <td>SP</td>\n",
              "      <td>56eb381fff8db8d35134693062514084</td>\n",
              "      <td>processing</td>\n",
              "      <td>2016-10-09 12:34:53</td>\n",
              "      <td>1</td>\n",
              "      <td>7f524cd9e1d47c5aa4b15b54d6d146cb</td>\n",
              "      <td>7a073a40a9d3f1fee8bc45670ea1e909</td>\n",
              "      <td>95.00</td>\n",
              "      <td>moveis_decoracao</td>\n",
              "      <td>furniture_decor</td>\n",
              "      <td>10</td>\n",
              "      <td>2016</td>\n",
              "    </tr>\n",
              "    <tr>\n",
              "      <th>68367</th>\n",
              "      <td>691d28310063e5b36b732b117f2bcfc0</td>\n",
              "      <td>22793</td>\n",
              "      <td>rio de janeiro</td>\n",
              "      <td>RJ</td>\n",
              "      <td>f688669f48063536e082bb32d634cd46</td>\n",
              "      <td>delivered</td>\n",
              "      <td>2016-10-07 10:28:56</td>\n",
              "      <td>1</td>\n",
              "      <td>c66def7098f4d87751f40c3a4855ced1</td>\n",
              "      <td>46dc3b2cc0980fb8ec44634e21d2718e</td>\n",
              "      <td>99.99</td>\n",
              "      <td>brinquedos</td>\n",
              "      <td>toys</td>\n",
              "      <td>10</td>\n",
              "      <td>2016</td>\n",
              "    </tr>\n",
              "    <tr>\n",
              "      <th>53101</th>\n",
              "      <td>6d3e9ccd146cea260421e9a7bae2e63a</td>\n",
              "      <td>9895</td>\n",
              "      <td>sao bernardo do campo</td>\n",
              "      <td>SP</td>\n",
              "      <td>d263c89354a73314488491185858af42</td>\n",
              "      <td>delivered</td>\n",
              "      <td>2016-10-10 04:49:29</td>\n",
              "      <td>1</td>\n",
              "      <td>92ee7c820f6eb0c532ecd94508e3cc29</td>\n",
              "      <td>5f0057b677eb963672bf05dfa3f16c34</td>\n",
              "      <td>24.99</td>\n",
              "      <td>audio</td>\n",
              "      <td>audio</td>\n",
              "      <td>10</td>\n",
              "      <td>2016</td>\n",
              "    </tr>\n",
              "  </tbody>\n",
              "</table>\n",
              "<p>111023 rows × 15 columns</p>\n",
              "</div>"
            ],
            "text/plain": [
              "                            customer_id  customer_zip_code_prefix  \\\n",
              "56344  69b29f0663441d192e106a8dd6d04f0d                     79004   \n",
              "48740  7f3a050ba677bbe9c55a06687d767c94                     57035   \n",
              "90489  4129a074aa14aa3d7a5fea1f15ab73bb                     56180   \n",
              "48723  494d0c71dffcc8d13d196e637a65cea9                     11095   \n",
              "48724  8bfd33c4e201a1b9b6d07f61298bc6f0                     20261   \n",
              "...                                 ...                       ...   \n",
              "20464  ac68706c6f747bf0f7e7986a7ba40155                     30380   \n",
              "38133  2ff5a6455514da421bd25d6e4ceb1d12                     33400   \n",
              "30041  b102a37db53345d7eb418649b096f8e8                     11600   \n",
              "68367  691d28310063e5b36b732b117f2bcfc0                     22793   \n",
              "53101  6d3e9ccd146cea260421e9a7bae2e63a                      9895   \n",
              "\n",
              "               customer_city customer_state                          order_id  \\\n",
              "56344           campo grande             MS  5ca64dbf0d6d6aec2ad73e74b918de04   \n",
              "48740                 maceio             AL  e6ed38386107802a72ec8197195f79a7   \n",
              "90489                cabrobo             PE  1250f8fc1f64f9c63ea3cd35c0a36a85   \n",
              "48723                 santos             SP  616dfda2aa81fd23f5e8f47619f650be   \n",
              "48724         rio de janeiro             RJ  681520892dd4126ee802bcd5aca41c73   \n",
              "...                      ...            ...                               ...   \n",
              "20464         belo horizonte             MG  34c718970b33419ed6d537a90366231b   \n",
              "38133            lagoa santa             MG  5cb8558cbb7c0c2f00f43468579d3e3c   \n",
              "30041          sao sebastiao             SP  56eb381fff8db8d35134693062514084   \n",
              "68367         rio de janeiro             RJ  f688669f48063536e082bb32d634cd46   \n",
              "53101  sao bernardo do campo             SP  d263c89354a73314488491185858af42   \n",
              "\n",
              "      order_status order_purchase_timestamp  order_item_id  \\\n",
              "56344    delivered      2018-06-23 15:39:09              1   \n",
              "48740    delivered      2018-03-22 12:29:47              1   \n",
              "90489    delivered      2018-01-15 09:36:22              1   \n",
              "48723    delivered      2018-08-19 22:14:43              1   \n",
              "48724    delivered      2018-08-11 17:16:14              1   \n",
              "...            ...                      ...            ...   \n",
              "20464    delivered      2016-10-05 08:41:18              1   \n",
              "38133      shipped      2016-10-04 15:02:37              1   \n",
              "30041   processing      2016-10-09 12:34:53              1   \n",
              "68367    delivered      2016-10-07 10:28:56              1   \n",
              "53101    delivered      2016-10-10 04:49:29              1   \n",
              "\n",
              "                             product_id                         seller_id  \\\n",
              "56344  def8b2856a5c8fea8715aa849a198cd4  7299e27ed73d2ad986de7f7c77d919fa   \n",
              "48740  e9b3cf27d68caa64832c4a7c460abcb9  7d456afc660226829370f3173d14520c   \n",
              "90489  5411e9269501a870cabf632f05655131  3d871de0142ce09b7081e2b9d1733cb1   \n",
              "48723  ad19bca6e0f1919433d7e21d534ddb50  527801b552d0077ffd170872eb49683b   \n",
              "48724  4c25724f63257e928ef05a8f265e52aa  8160255418d5aaa7dbdc9f4c64ebda44   \n",
              "...                                 ...                               ...   \n",
              "20464  7ed8c74b7ad2f1790a24a24c071da537  46dc3b2cc0980fb8ec44634e21d2718e   \n",
              "38133  ad5396bf96af6ede77130e54ad266c61  184a67a8f9f63234d3a92340bbdb727f   \n",
              "30041  7f524cd9e1d47c5aa4b15b54d6d146cb  7a073a40a9d3f1fee8bc45670ea1e909   \n",
              "68367  c66def7098f4d87751f40c3a4855ced1  46dc3b2cc0980fb8ec44634e21d2718e   \n",
              "53101  92ee7c820f6eb0c532ecd94508e3cc29  5f0057b677eb963672bf05dfa3f16c34   \n",
              "\n",
              "        price   product_category_name product_category_name_english  Month  \\\n",
              "56344   69.99              brinquedos                          toys      6   \n",
              "48740  160.00            market_place                  market_place      3   \n",
              "90489  129.00               papelaria                    stationery      1   \n",
              "48723   44.90  livros_interesse_geral        books_general_interest      8   \n",
              "48724   74.90         cama_mesa_banho                bed_bath_table      8   \n",
              "...       ...                     ...                           ...    ...   \n",
              "20464  119.99              brinquedos                          toys     10   \n",
              "38133   22.37        moveis_decoracao               furniture_decor     10   \n",
              "30041   95.00        moveis_decoracao               furniture_decor     10   \n",
              "68367   99.99              brinquedos                          toys     10   \n",
              "53101   24.99                   audio                         audio     10   \n",
              "\n",
              "       Year  \n",
              "56344  2018  \n",
              "48740  2018  \n",
              "90489  2018  \n",
              "48723  2018  \n",
              "48724  2018  \n",
              "...     ...  \n",
              "20464  2016  \n",
              "38133  2016  \n",
              "30041  2016  \n",
              "68367  2016  \n",
              "53101  2016  \n",
              "\n",
              "[111023 rows x 15 columns]"
            ]
          },
          "execution_count": 37,
          "metadata": {},
          "output_type": "execute_result"
        }
      ],
      "source": [
        "df_sales_cleaned.sort_values(by=\"Year\",ascending=False)"
      ]
    },
    {
      "cell_type": "code",
      "execution_count": 38,
      "metadata": {
        "colab": {
          "base_uri": "https://localhost:8080/",
          "height": 363
        },
        "id": "S8_8_t8BLw10",
        "outputId": "0d51da8d-730b-4ea7-822b-861bbe037f2c"
      },
      "outputs": [
        {
          "data": {
            "text/html": [
              "<div>\n",
              "<style scoped>\n",
              "    .dataframe tbody tr th:only-of-type {\n",
              "        vertical-align: middle;\n",
              "    }\n",
              "\n",
              "    .dataframe tbody tr th {\n",
              "        vertical-align: top;\n",
              "    }\n",
              "\n",
              "    .dataframe thead th {\n",
              "        text-align: right;\n",
              "    }\n",
              "</style>\n",
              "<table border=\"1\" class=\"dataframe\">\n",
              "  <thead>\n",
              "    <tr style=\"text-align: right;\">\n",
              "      <th></th>\n",
              "      <th></th>\n",
              "      <th>price</th>\n",
              "    </tr>\n",
              "    <tr>\n",
              "      <th>Month</th>\n",
              "      <th>Year</th>\n",
              "      <th></th>\n",
              "    </tr>\n",
              "  </thead>\n",
              "  <tbody>\n",
              "    <tr>\n",
              "      <th>1</th>\n",
              "      <th>2018</th>\n",
              "      <td>927540.91</td>\n",
              "    </tr>\n",
              "    <tr>\n",
              "      <th>2</th>\n",
              "      <th>2018</th>\n",
              "      <td>831289.97</td>\n",
              "    </tr>\n",
              "    <tr>\n",
              "      <th>3</th>\n",
              "      <th>2018</th>\n",
              "      <td>965835.33</td>\n",
              "    </tr>\n",
              "    <tr>\n",
              "      <th>4</th>\n",
              "      <th>2018</th>\n",
              "      <td>988407.09</td>\n",
              "    </tr>\n",
              "    <tr>\n",
              "      <th>5</th>\n",
              "      <th>2018</th>\n",
              "      <td>991422.74</td>\n",
              "    </tr>\n",
              "    <tr>\n",
              "      <th>6</th>\n",
              "      <th>2018</th>\n",
              "      <td>862737.18</td>\n",
              "    </tr>\n",
              "    <tr>\n",
              "      <th>7</th>\n",
              "      <th>2018</th>\n",
              "      <td>890046.19</td>\n",
              "    </tr>\n",
              "    <tr>\n",
              "      <th>8</th>\n",
              "      <th>2018</th>\n",
              "      <td>850209.79</td>\n",
              "    </tr>\n",
              "    <tr>\n",
              "      <th>9</th>\n",
              "      <th>2018</th>\n",
              "      <td>145.00</td>\n",
              "    </tr>\n",
              "  </tbody>\n",
              "</table>\n",
              "</div>"
            ],
            "text/plain": [
              "                price\n",
              "Month Year           \n",
              "1     2018  927540.91\n",
              "2     2018  831289.97\n",
              "3     2018  965835.33\n",
              "4     2018  988407.09\n",
              "5     2018  991422.74\n",
              "6     2018  862737.18\n",
              "7     2018  890046.19\n",
              "8     2018  850209.79\n",
              "9     2018     145.00"
            ]
          },
          "execution_count": 38,
          "metadata": {},
          "output_type": "execute_result"
        }
      ],
      "source": [
        "total_sales_per_month_2018 = df_sales_cleaned[df_sales_cleaned[\"Year\"] == 2018].groupby([\"Month\", \"Year\"]).agg({\n",
        "    \"price\": \"sum\",\n",
        "})\n",
        "\n",
        "total_sales_per_month_2018"
      ]
    },
    {
      "cell_type": "code",
      "execution_count": 39,
      "metadata": {
        "colab": {
          "base_uri": "https://localhost:8080/",
          "height": 457
        },
        "id": "YNiPYzfjO9CU",
        "outputId": "12c06893-ef5f-409e-c97e-dfac6c133aec"
      },
      "outputs": [
        {
          "data": {
            "text/html": [
              "<div>\n",
              "<style scoped>\n",
              "    .dataframe tbody tr th:only-of-type {\n",
              "        vertical-align: middle;\n",
              "    }\n",
              "\n",
              "    .dataframe tbody tr th {\n",
              "        vertical-align: top;\n",
              "    }\n",
              "\n",
              "    .dataframe thead th {\n",
              "        text-align: right;\n",
              "    }\n",
              "</style>\n",
              "<table border=\"1\" class=\"dataframe\">\n",
              "  <thead>\n",
              "    <tr style=\"text-align: right;\">\n",
              "      <th></th>\n",
              "      <th></th>\n",
              "      <th>price</th>\n",
              "    </tr>\n",
              "    <tr>\n",
              "      <th>Month</th>\n",
              "      <th>Year</th>\n",
              "      <th></th>\n",
              "    </tr>\n",
              "  </thead>\n",
              "  <tbody>\n",
              "    <tr>\n",
              "      <th>1</th>\n",
              "      <th>2017</th>\n",
              "      <td>118610.23</td>\n",
              "    </tr>\n",
              "    <tr>\n",
              "      <th>2</th>\n",
              "      <th>2017</th>\n",
              "      <td>238268.92</td>\n",
              "    </tr>\n",
              "    <tr>\n",
              "      <th>3</th>\n",
              "      <th>2017</th>\n",
              "      <td>367630.13</td>\n",
              "    </tr>\n",
              "    <tr>\n",
              "      <th>4</th>\n",
              "      <th>2017</th>\n",
              "      <td>350974.16</td>\n",
              "    </tr>\n",
              "    <tr>\n",
              "      <th>5</th>\n",
              "      <th>2017</th>\n",
              "      <td>494979.21</td>\n",
              "    </tr>\n",
              "    <tr>\n",
              "      <th>6</th>\n",
              "      <th>2017</th>\n",
              "      <td>427380.82</td>\n",
              "    </tr>\n",
              "    <tr>\n",
              "      <th>7</th>\n",
              "      <th>2017</th>\n",
              "      <td>494906.82</td>\n",
              "    </tr>\n",
              "    <tr>\n",
              "      <th>8</th>\n",
              "      <th>2017</th>\n",
              "      <td>568728.28</td>\n",
              "    </tr>\n",
              "    <tr>\n",
              "      <th>9</th>\n",
              "      <th>2017</th>\n",
              "      <td>618497.55</td>\n",
              "    </tr>\n",
              "    <tr>\n",
              "      <th>10</th>\n",
              "      <th>2017</th>\n",
              "      <td>645418.95</td>\n",
              "    </tr>\n",
              "    <tr>\n",
              "      <th>11</th>\n",
              "      <th>2017</th>\n",
              "      <td>996155.39</td>\n",
              "    </tr>\n",
              "    <tr>\n",
              "      <th>12</th>\n",
              "      <th>2017</th>\n",
              "      <td>727689.25</td>\n",
              "    </tr>\n",
              "  </tbody>\n",
              "</table>\n",
              "</div>"
            ],
            "text/plain": [
              "                price\n",
              "Month Year           \n",
              "1     2017  118610.23\n",
              "2     2017  238268.92\n",
              "3     2017  367630.13\n",
              "4     2017  350974.16\n",
              "5     2017  494979.21\n",
              "6     2017  427380.82\n",
              "7     2017  494906.82\n",
              "8     2017  568728.28\n",
              "9     2017  618497.55\n",
              "10    2017  645418.95\n",
              "11    2017  996155.39\n",
              "12    2017  727689.25"
            ]
          },
          "execution_count": 39,
          "metadata": {},
          "output_type": "execute_result"
        }
      ],
      "source": [
        "total_sales_per_month_2017 = df_sales_cleaned[df_sales_cleaned[\"Year\"] == 2017].groupby([\"Month\", \"Year\"]).agg({\n",
        "    \"price\": \"sum\",\n",
        "})\n",
        "\n",
        "total_sales_per_month_2017"
      ]
    },
    {
      "cell_type": "code",
      "execution_count": 40,
      "metadata": {
        "colab": {
          "base_uri": "https://localhost:8080/",
          "height": 175
        },
        "id": "w2g2JJkHPX-L",
        "outputId": "09553efd-e771-4dd0-bc40-e2287e7f6067"
      },
      "outputs": [
        {
          "data": {
            "text/html": [
              "<div>\n",
              "<style scoped>\n",
              "    .dataframe tbody tr th:only-of-type {\n",
              "        vertical-align: middle;\n",
              "    }\n",
              "\n",
              "    .dataframe tbody tr th {\n",
              "        vertical-align: top;\n",
              "    }\n",
              "\n",
              "    .dataframe thead th {\n",
              "        text-align: right;\n",
              "    }\n",
              "</style>\n",
              "<table border=\"1\" class=\"dataframe\">\n",
              "  <thead>\n",
              "    <tr style=\"text-align: right;\">\n",
              "      <th></th>\n",
              "      <th></th>\n",
              "      <th>price</th>\n",
              "    </tr>\n",
              "    <tr>\n",
              "      <th>Month</th>\n",
              "      <th>Year</th>\n",
              "      <th></th>\n",
              "    </tr>\n",
              "  </thead>\n",
              "  <tbody>\n",
              "    <tr>\n",
              "      <th>9</th>\n",
              "      <th>2016</th>\n",
              "      <td>267.36</td>\n",
              "    </tr>\n",
              "    <tr>\n",
              "      <th>10</th>\n",
              "      <th>2016</th>\n",
              "      <td>49441.77</td>\n",
              "    </tr>\n",
              "    <tr>\n",
              "      <th>12</th>\n",
              "      <th>2016</th>\n",
              "      <td>10.90</td>\n",
              "    </tr>\n",
              "  </tbody>\n",
              "</table>\n",
              "</div>"
            ],
            "text/plain": [
              "               price\n",
              "Month Year          \n",
              "9     2016    267.36\n",
              "10    2016  49441.77\n",
              "12    2016     10.90"
            ]
          },
          "execution_count": 40,
          "metadata": {},
          "output_type": "execute_result"
        }
      ],
      "source": [
        "total_sales_per_month_2016 = df_sales_cleaned[df_sales_cleaned[\"Year\"] == 2016].groupby([\"Month\", \"Year\"]).agg({\n",
        "    \"price\": \"sum\",\n",
        "})\n",
        "\n",
        "total_sales_per_month_2016"
      ]
    },
    {
      "cell_type": "code",
      "execution_count": 41,
      "metadata": {
        "colab": {
          "base_uri": "https://localhost:8080/"
        },
        "id": "DBeNEFSCPlwF",
        "outputId": "db5a7912-c4b1-4cf5-c234-5835d5d26b89"
      },
      "outputs": [
        {
          "data": {
            "text/plain": [
              "product_category_name_english\n",
              "bed_bath_table           11115\n",
              "health_beauty             9670\n",
              "sports_leisure            8641\n",
              "furniture_decor           8334\n",
              "computers_accessories     7827\n",
              "housewares                6964\n",
              "watches_gifts             5991\n",
              "telephony                 4545\n",
              "garden_tools              4347\n",
              "auto                      4235\n",
              "Name: order_id, dtype: int64"
            ]
          },
          "execution_count": 41,
          "metadata": {},
          "output_type": "execute_result"
        }
      ],
      "source": [
        "top_10_product_category = df_sales_cleaned.groupby(\"product_category_name_english\")['order_id'].count().sort_values(ascending=False).head(10)\n",
        "top_10_product_category"
      ]
    },
    {
      "cell_type": "markdown",
      "metadata": {
        "id": "IpZ3D_9CaYRF"
      },
      "source": [
        "#### Analisis RFM"
      ]
    },
    {
      "cell_type": "code",
      "execution_count": 42,
      "metadata": {
        "colab": {
          "base_uri": "https://localhost:8080/"
        },
        "id": "bXTfh9xIaUH8",
        "outputId": "c908623c-ecd8-4ddc-8b24-a3a7b841347c"
      },
      "outputs": [
        {
          "name": "stderr",
          "output_type": "stream",
          "text": [
            "C:\\Users\\Hasnan Ramadhan\\AppData\\Local\\Temp\\ipykernel_17648\\2576091810.py:1: SettingWithCopyWarning: \n",
            "A value is trying to be set on a copy of a slice from a DataFrame.\n",
            "Try using .loc[row_indexer,col_indexer] = value instead\n",
            "\n",
            "See the caveats in the documentation: https://pandas.pydata.org/pandas-docs/stable/user_guide/indexing.html#returning-a-view-versus-a-copy\n",
            "  df_sales_cleaned['order_purchase_timestamp'] = pd.to_datetime(df_sales_cleaned['order_purchase_timestamp'])\n"
          ]
        },
        {
          "name": "stdout",
          "output_type": "stream",
          "text": [
            "                                  Recency  Monetary  Frequency\n",
            "customer_id                                                   \n",
            "00012a2ce6f8dcda20d059ce98491703      442     89.80          1\n",
            "000161a058600d5901f007fab4c27140      563     54.90          1\n",
            "0001fd6190edaaf884bcaf3d49edf079      701    179.99          1\n",
            "0002414f95344307404f0ace7a26f1d5      532    149.90          1\n",
            "000379cdec625522490c315e70c7a9fb      303     93.00          1\n"
          ]
        }
      ],
      "source": [
        "df_sales_cleaned['order_purchase_timestamp'] = pd.to_datetime(df_sales_cleaned['order_purchase_timestamp'])\n",
        "\n",
        "# Menetapkan tanggal menjadi 31 Januari 2019\n",
        "reference_date = pd.to_datetime('2019-01-31')\n",
        "\n",
        "# Menghitung Nilai Recency, Frequency, and Monetary\n",
        "df_rfm = df_sales_cleaned.groupby('customer_id').agg({\n",
        "    'order_purchase_timestamp': lambda x: (reference_date - x.max()).days,\n",
        "    'price': 'sum',\n",
        "    'customer_id': 'count'\n",
        "})\n",
        "\n",
        "# Mengubah nama kolom\n",
        "df_rfm.rename(columns={\n",
        "    'order_purchase_timestamp': 'Recency',\n",
        "    'price': 'Monetary',\n",
        "    'customer_id': 'Frequency'\n",
        "}, inplace=True)\n",
        "\n",
        "# Menampilkan RFM DataFrame\n",
        "print(df_rfm.head())"
      ]
    },
    {
      "cell_type": "markdown",
      "metadata": {
        "id": "a2ymICxBaxrc"
      },
      "source": [
        "R (Recency) menunjukan jumlah hari sejak pembelian terakhir seorang customer\n",
        "\n",
        "M (Monetary) menunjukan jumlah harga pembelian dari seorang customer\n",
        "\n",
        "F (Frequency) menunjukan jumlah pembelian yang pernah dilakukan oleh customer"
      ]
    },
    {
      "cell_type": "markdown",
      "metadata": {
        "id": "SCNmtOLp9OKB"
      },
      "source": [
        "## Visualization & Explanatory Analysis"
      ]
    },
    {
      "cell_type": "markdown",
      "metadata": {
        "id": "d7EnskMBk4_l"
      },
      "source": [
        "### Pertanyaan 1: Bagaimana penjualan dari E-Commerce pada beberapa bulan terakhir?"
      ]
    },
    {
      "cell_type": "code",
      "execution_count": 43,
      "metadata": {
        "colab": {
          "base_uri": "https://localhost:8080/",
          "height": 410
        },
        "id": "fXd0aZA8vceR",
        "outputId": "a33817d0-614d-4c09-8deb-417dc5418c5f"
      },
      "outputs": [
        {
          "data": {
            "image/png": "[encoded data removed]",
            "text/plain": [
              "<Figure size 1000x400 with 1 Axes>"
            ]
          },
          "metadata": {},
          "output_type": "display_data"
        }
      ],
      "source": [
        "sales_2018 = total_sales_per_month_2018[\"price\"]\n",
        "sales_2018 = sales_2018.loc[sales_2018.index.get_level_values(\"Month\")<9]\n",
        "sales_2018_avg = total_sales_per_month_2018[\"price\"].median()\n",
        "\n",
        "# Memplot line chart\n",
        "plt.figure(figsize=(10,4))\n",
        "\n",
        "plt.plot(sales_2018.index.get_level_values(\"Month\"),sales_2018,label=\"2018\")\n",
        "\n",
        "plt.axhline(y=sales_2018_avg, color='r', linestyle='-', label='Average 2018')\n",
        "\n",
        "# Menambahkan label dan judul\n",
        "plt.xlabel(\"Month\")\n",
        "plt.ylabel(\"Total Sales ($)\")\n",
        "plt.title(\"Total Sales per Month in 2018\")\n",
        "plt.legend()\n",
        "\n",
        "# Menampilkan plot\n",
        "plt.show()\n"
      ]
    },
    {
      "cell_type": "markdown",
      "metadata": {
        "id": "F2Bo_ypQ9RfH"
      },
      "source": [
        "### Pertanyaan 2: Berapa jumlah pelanggan e-commerce di atas rata-rata berdasarkan negara bagian?"
      ]
    },
    {
      "cell_type": "code",
      "execution_count": 44,
      "metadata": {
        "colab": {
          "base_uri": "https://localhost:8080/",
          "height": 439
        },
        "id": "jkO5kTJq9S1Y",
        "outputId": "f78c2187-1dc5-4190-8215-39871d248da2"
      },
      "outputs": [
        {
          "data": {
            "image/png": "[encoded data removed]",
            "text/plain": [
              "<Figure size 1000x400 with 1 Axes>"
            ]
          },
          "metadata": {},
          "output_type": "display_data"
        },
        {
          "data": {
            "text/plain": [
              "3602.074074074074"
            ]
          },
          "execution_count": 44,
          "metadata": {},
          "output_type": "execute_result"
        }
      ],
      "source": [
        "base_color = 'green'\n",
        "\n",
        "# Hitung rata-rata\n",
        "average_customers = customer_id_per_state.mean()\n",
        "\n",
        "# Filter data hanya untuk state dengan jumlah pelanggan di atas rata-rata\n",
        "above_average_states = customer_id_per_state[customer_id_per_state > average_customers]\n",
        "\n",
        "# Plot bar chart dengan gradasi warna biru tua dan biru muda\n",
        "plt.figure(figsize=(10, 4))\n",
        "bars = plt.bar(above_average_states.index, above_average_states, color=[\n",
        "    base_color if state_value == above_average_states.max() else sns.light_palette(base_color, n_colors=len(above_average_states), reverse=True, as_cmap=False)[i] for i, state_value in enumerate(above_average_states)\n",
        "])\n",
        "plt.title('Count of Customer per State (Above Average)')\n",
        "plt.xlabel('State')\n",
        "plt.ylabel('Customers')\n",
        "plt.xticks(rotation=45, ha='right')\n",
        "\n",
        "plt.show()\n",
        "\n",
        "average_customers"
      ]
    },
    {
      "cell_type": "markdown",
      "metadata": {
        "id": "Mote9iEXuvA0"
      },
      "source": [
        "### Pertanyaan 3: Bagaimana tingkat keberhasilan pengiriman pesanan yang dibuat?"
      ]
    },
    {
      "cell_type": "code",
      "execution_count": 45,
      "metadata": {
        "colab": {
          "base_uri": "https://localhost:8080/",
          "height": 444
        },
        "id": "WamEBL6PveC6",
        "outputId": "1e7d7a7f-f031-494e-b406-7e87be534461"
      },
      "outputs": [
        {
          "data": {
            "image/png": "[encoded data removed]",
            "text/plain": [
              "<Figure size 500x500 with 1 Axes>"
            ]
          },
          "metadata": {},
          "output_type": "display_data"
        }
      ],
      "source": [
        "order_status_by_customer_id = {key: value for key, value in order_status_by_customer_id.items() if key not in ['approved', 'invoiced', 'processing', 'shipped', 'unavailable']}\n",
        "\n",
        "# Plot pie chart\n",
        "plt.figure(figsize=(5, 5))\n",
        "plt.pie(order_status_by_customer_id.values(), labels=order_status_by_customer_id.keys(), autopct='%1.1f%%', startangle=90, colors=plt.cm.Paired.colors)\n",
        "plt.title('Delivery Successfull Rate')\n",
        "plt.legend()\n",
        "plt.show()\n"
      ]
    },
    {
      "cell_type": "markdown",
      "metadata": {
        "id": "SG59_Fbj9Qr6"
      },
      "source": [
        "### Pertanyaan 4: Kategori produk apa saja yang paling banyak dipesan?"
      ]
    },
    {
      "cell_type": "code",
      "execution_count": 46,
      "metadata": {
        "colab": {
          "base_uri": "https://localhost:8080/",
          "height": 520
        },
        "id": "dtRoaxqd9PdU",
        "outputId": "227d2ed4-2024-4600-f665-28301e0d0809"
      },
      "outputs": [
        {
          "data": {
            "image/png": "[encoded data removed]",
            "text/plain": [
              "<Figure size 1000x400 with 1 Axes>"
            ]
          },
          "metadata": {},
          "output_type": "display_data"
        }
      ],
      "source": [
        "base_color = 'blue'\n",
        "\n",
        "intensity_values = range(len(top_10_product_category))\n",
        "\n",
        "plt.figure(figsize=(10, 4))\n",
        "bars = plt.bar(top_10_product_category.index, top_10_product_category, color=sns.light_palette(base_color, n_colors=len(top_10_product_category), reverse=True, as_cmap=False))\n",
        "plt.title('Top 10 Product Categories by Order Count')\n",
        "plt.xlabel('Product Category')\n",
        "plt.ylabel('Order Count')\n",
        "plt.xticks(rotation=45, ha='right')\n",
        "\n",
        "plt.show()"
      ]
    },
    {
      "cell_type": "code",
      "execution_count": 47,
      "metadata": {
        "id": "b32P72p99VN9"
      },
      "outputs": [],
      "source": [
        "# # Menyimpan dataframe yang telah dibersihkan ke dalam format csv\n",
        "# df_sales_cleaned.to_csv(\"all_data.csv\", index=False)"
      ]
    }
  ],
  "metadata": {
    "colab": {
      "provenance": []
    },
    "kernelspec": {
      "display_name": "Python 3",
      "name": "python3"
    },
    "language_info": {
      "codemirror_mode": {
        "name": "ipython",
        "version": 3
      },
      "file_extension": ".py",
      "mimetype": "text/x-python",
      "name": "python",
      "nbconvert_exporter": "python",
      "pygments_lexer": "ipython3",
      "version": "3.11.5"
    }
  },
  "nbformat": 4,
  "nbformat_minor": 0
}
